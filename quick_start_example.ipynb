{
 "cells": [
  {
   "cell_type": "markdown",
   "metadata": {
    "tags": []
   },
   "source": [
    "# `auto_arima`\n",
    "\n",
    "Pmdarima bring R's [`auto.arima`](https://www.rdocumentation.org/packages/forecast/versions/7.3/topics/auto.arima) functionality to Python by wrapping statsmodel [`ARIMA`](https://github.com/statsmodels/statsmodels/blob/master/statsmodels/tsa/arima_model.py) and [`SARIMAX`](https://github.com/statsmodels/statsmodels/blob/master/statsmodels/tsa/statespace/sarimax.py) models into a singular scikit-learn-esque estimator ([`pmdarima.arima.ARIMA`](https://github.com/alkaline-ml/pmdarima/blob/master/pmdarima/arima/arima.py)) and adding several layers of degree and seasonal differencing tests to identify the optimal model parameters.\n",
    "\n",
    "__Pmdarima ARIMA models:__\n",
    "\n",
    "  - Are fully picklable for easy persistence and model deployment\n",
    "  - Can handle seasonal terms (unlike statsmodels ARIMAs)\n",
    "  - Follow sklearn model fit/predict conventions"
   ]
  },
  {
   "cell_type": "code",
   "execution_count": 1,
   "metadata": {},
   "outputs": [
    {
     "name": "stdout",
     "output_type": "stream",
     "text": [
      "numpy version: '1.21.5'\n",
      "pandas version: '1.3.5'\n",
      "pmdarima version: '1.8.5'\n"
     ]
    }
   ],
   "source": [
    "import numpy as np\n",
    "import pandas as pd\n",
    "import pmdarima as pm\n",
    "\n",
    "print('numpy version: %r' % np.__version__)\n",
    "print('pandas version: %r' % pd.__version__)\n",
    "print('pmdarima version: %r' % pm.__version__)"
   ]
  },
  {
   "cell_type": "markdown",
   "metadata": {},
   "source": [
    "We'll start by defining an array of data from an R time-series, `wineind`:\n",
    "\n",
    "```r\n",
    "> forecast::wineind\n",
    "       Jan   Feb   Mar   Apr   May   Jun   Jul   Aug   Sep   Oct   Nov   Dec\n",
    "1980 15136 16733 20016 17708 18019 19227 22893 23739 21133 22591 26786 29740\n",
    "1981 15028 17977 20008 21354 19498 22125 25817 28779 20960 22254 27392 29945\n",
    "1982 16933 17892 20533 23569 22417 22084 26580 27454 24081 23451 28991 31386\n",
    "1983 16896 20045 23471 21747 25621 23859 25500 30998 24475 23145 29701 34365\n",
    "1984 17556 22077 25702 22214 26886 23191 27831 35406 23195 25110 30009 36242\n",
    "1985 18450 21845 26488 22394 28057 25451 24872 33424 24052 28449 33533 37351\n",
    "1986 19969 21701 26249 24493 24603 26485 30723 34569 26689 26157 32064 38870\n",
    "1987 21337 19419 23166 28286 24570 24001 33151 24878 26804 28967 33311 40226\n",
    "1988 20504 23060 23562 27562 23940 24584 34303 25517 23494 29095 32903 34379\n",
    "1989 16991 21109 23740 25552 21752 20294 29009 25500 24166 26960 31222 38641\n",
    "1990 14672 17543 25453 32683 22449 22316 27595 25451 25421 25288 32568 35110\n",
    "1991 16052 22146 21198 19543 22084 23816 29961 26773 26635 26972 30207 38687\n",
    "1992 16974 21697 24179 23757 25013 24019 30345 24488 25156 25650 30923 37240\n",
    "1993 17466 19463 24352 26805 25236 24735 29356 31234 22724 28496 32857 37198\n",
    "1994 13652 22784 23565 26323 23779 27549 29660 23356\n",
    "```\n",
    "\n",
    "Note that the frequency of the data is 12:\n",
    "\n",
    "```r\n",
    "> frequency(forecast::wineind)\n",
    "[1] 12\n",
    "```"
   ]
  },
  {
   "cell_type": "code",
   "execution_count": 2,
   "metadata": {},
   "outputs": [],
   "source": [
    "from pmdarima.datasets import load_wineind\n",
    "\n",
    "# this is a dataset from R\n",
    "wineind = load_wineind().astype(np.float64)"
   ]
  },
  {
   "cell_type": "code",
   "execution_count": 3,
   "metadata": {},
   "outputs": [
    {
     "data": {
      "text/plain": [
       "numpy.ndarray"
      ]
     },
     "execution_count": 3,
     "metadata": {},
     "output_type": "execute_result"
    }
   ],
   "source": [
    "type(wineind)"
   ]
  },
  {
   "cell_type": "code",
   "execution_count": 4,
   "metadata": {},
   "outputs": [
    {
     "data": {
      "text/plain": [
       "(176,)"
      ]
     },
     "execution_count": 4,
     "metadata": {},
     "output_type": "execute_result"
    }
   ],
   "source": [
    "wineind.shape"
   ]
  },
  {
   "cell_type": "code",
   "execution_count": 5,
   "metadata": {},
   "outputs": [
    {
     "data": {
      "text/html": [
       "<div>\n",
       "<style scoped>\n",
       "    .dataframe tbody tr th:only-of-type {\n",
       "        vertical-align: middle;\n",
       "    }\n",
       "\n",
       "    .dataframe tbody tr th {\n",
       "        vertical-align: top;\n",
       "    }\n",
       "\n",
       "    .dataframe thead th {\n",
       "        text-align: right;\n",
       "    }\n",
       "</style>\n",
       "<table border=\"1\" class=\"dataframe\">\n",
       "  <thead>\n",
       "    <tr style=\"text-align: right;\">\n",
       "      <th></th>\n",
       "      <th>0</th>\n",
       "    </tr>\n",
       "  </thead>\n",
       "  <tbody>\n",
       "    <tr>\n",
       "      <th>0</th>\n",
       "      <td>15136.0</td>\n",
       "    </tr>\n",
       "    <tr>\n",
       "      <th>1</th>\n",
       "      <td>16733.0</td>\n",
       "    </tr>\n",
       "    <tr>\n",
       "      <th>2</th>\n",
       "      <td>20016.0</td>\n",
       "    </tr>\n",
       "    <tr>\n",
       "      <th>3</th>\n",
       "      <td>17708.0</td>\n",
       "    </tr>\n",
       "    <tr>\n",
       "      <th>4</th>\n",
       "      <td>18019.0</td>\n",
       "    </tr>\n",
       "  </tbody>\n",
       "</table>\n",
       "</div>"
      ],
      "text/plain": [
       "         0\n",
       "0  15136.0\n",
       "1  16733.0\n",
       "2  20016.0\n",
       "3  17708.0\n",
       "4  18019.0"
      ]
     },
     "execution_count": 5,
     "metadata": {},
     "output_type": "execute_result"
    }
   ],
   "source": [
    "pd.DataFrame(wineind).head()"
   ]
  },
  {
   "cell_type": "code",
   "execution_count": 6,
   "metadata": {},
   "outputs": [
    {
     "data": {
      "text/plain": [
       "0    0\n",
       "dtype: int64"
      ]
     },
     "execution_count": 6,
     "metadata": {},
     "output_type": "execute_result"
    }
   ],
   "source": [
    "pd.DataFrame(wineind).isnull().sum()"
   ]
  },
  {
   "cell_type": "markdown",
   "metadata": {},
   "source": [
    "## Fitting an ARIMA\n",
    "\n",
    "We will first fit a seasonal ARIMA. Note that you do not need to call `auto_arima` in order to fit a model&mdash;if you know the order and seasonality of your data, you can simply fit an ARIMA with the defined hyper-parameters:"
   ]
  },
  {
   "cell_type": "code",
   "execution_count": 7,
   "metadata": {},
   "outputs": [
    {
     "data": {
      "text/plain": [
       "ARIMA(order=(1, 1, 1), seasonal_order=(0, 1, 1, 12))"
      ]
     },
     "execution_count": 7,
     "metadata": {},
     "output_type": "execute_result"
    }
   ],
   "source": [
    "from pmdarima.arima import ARIMA\n",
    "\n",
    "model = ARIMA(order=(1, 1, 1), seasonal_order=(0, 1, 1, 12))\n",
    "seasonal_order = model.fit(y=wineind)\n",
    "seasonal_order"
   ]
  },
  {
   "cell_type": "markdown",
   "metadata": {},
   "source": [
    "Also note that your data does not have to exhibit seasonality to work with an ARIMA. We could fit an ARIMA against the same data with no seasonal terms whatsoever (but it is unlikely that it will perform better; quite the opposite, likely)."
   ]
  },
  {
   "cell_type": "code",
   "execution_count": 8,
   "metadata": {},
   "outputs": [
    {
     "name": "stdout",
     "output_type": "stream",
     "text": [
      "'NoneType' object is not subscriptable\n"
     ]
    }
   ],
   "source": [
    "model = ARIMA(order=(1, 1, 1), seasonal_order=None)\n",
    "try:\n",
    "    model.fit(y=wineind)\n",
    "    print('seasonal_order: ', model.get_params['seasonal_order'])\n",
    "except TypeError as e:\n",
    "    print(e)"
   ]
  },
  {
   "cell_type": "markdown",
   "metadata": {},
   "source": [
    "## Finding the optimal model hyper-parameters using `auto_arima`:\n",
    "\n",
    "If you are unsure (as is common) of the best parameters for your model, let `auto_arima` figure it out for you. `auto_arima` is similar to an ARIMA-specific grid search, but (by default) uses a more intelligent `stepwise` algorithm laid out in a paper by Hyndman and Khandakar (2008). If `stepwise` is False, the models will be fit similar to a gridsearch. Note that it is possible for `auto_arima` not to find a model that will converge; if this is the case, it will raise a `ValueError`.\n",
    "\n",
    "### Fitting a stepwise search:"
   ]
  },
  {
   "cell_type": "code",
   "execution_count": 9,
   "metadata": {},
   "outputs": [
    {
     "name": "stdout",
     "output_type": "stream",
     "text": [
      "Performing stepwise search to minimize aic\n"
     ]
    },
    {
     "name": "stderr",
     "output_type": "stream",
     "text": [
      "//anaconda3/envs/py3/lib/python3.7/site-packages/statsmodels/tsa/statespace/sarimax.py:1899: RuntimeWarning: invalid value encountered in reciprocal\n",
      "  return np.roots(self.polynomial_reduced_ar)**-1\n"
     ]
    },
    {
     "name": "stdout",
     "output_type": "stream",
     "text": [
      " ARIMA(1,1,1)(0,1,1)[12]             : AIC=3066.492, Time=0.34 sec\n",
      " ARIMA(0,1,0)(0,1,0)[12]             : AIC=3131.408, Time=0.03 sec\n",
      " ARIMA(1,1,0)(1,1,0)[12]             : AIC=3097.884, Time=0.12 sec\n",
      " ARIMA(0,1,1)(0,1,1)[12]             : AIC=3066.329, Time=0.13 sec\n",
      " ARIMA(0,1,1)(0,1,0)[12]             : AIC=3089.456, Time=0.04 sec\n"
     ]
    },
    {
     "name": "stderr",
     "output_type": "stream",
     "text": [
      "//anaconda3/envs/py3/lib/python3.7/site-packages/statsmodels/tsa/statespace/sarimax.py:1906: RuntimeWarning: invalid value encountered in reciprocal\n",
      "  return np.roots(self.polynomial_reduced_ma)**-1\n"
     ]
    },
    {
     "name": "stdout",
     "output_type": "stream",
     "text": [
      " ARIMA(0,1,1)(1,1,1)[12]             : AIC=3067.457, Time=0.20 sec\n",
      " ARIMA(0,1,1)(0,1,2)[12]             : AIC=3067.481, Time=0.34 sec\n",
      " ARIMA(0,1,1)(1,1,0)[12]             : AIC=3071.631, Time=0.11 sec\n"
     ]
    },
    {
     "name": "stderr",
     "output_type": "stream",
     "text": [
      "//anaconda3/envs/py3/lib/python3.7/site-packages/statsmodels/tsa/statespace/sarimax.py:1906: RuntimeWarning: invalid value encountered in reciprocal\n",
      "  return np.roots(self.polynomial_reduced_ma)**-1\n"
     ]
    },
    {
     "name": "stdout",
     "output_type": "stream",
     "text": [
      " ARIMA(0,1,1)(1,1,2)[12]             : AIC=inf, Time=1.63 sec\n",
      " ARIMA(0,1,0)(0,1,1)[12]             : AIC=3117.921, Time=0.19 sec\n",
      " ARIMA(0,1,2)(0,1,1)[12]             : AIC=3065.533, Time=0.17 sec\n",
      " ARIMA(0,1,2)(0,1,0)[12]             : AIC=3087.883, Time=0.07 sec\n",
      " ARIMA(0,1,2)(1,1,1)[12]             : AIC=3066.239, Time=0.33 sec\n",
      " ARIMA(0,1,2)(0,1,2)[12]             : AIC=3066.373, Time=0.51 sec\n",
      " ARIMA(0,1,2)(1,1,0)[12]             : AIC=3070.728, Time=0.13 sec\n",
      " ARIMA(0,1,2)(1,1,2)[12]             : AIC=inf, Time=1.81 sec\n"
     ]
    },
    {
     "name": "stderr",
     "output_type": "stream",
     "text": [
      "//anaconda3/envs/py3/lib/python3.7/site-packages/statsmodels/tsa/statespace/sarimax.py:1899: RuntimeWarning: invalid value encountered in reciprocal\n",
      "  return np.roots(self.polynomial_reduced_ar)**-1\n"
     ]
    },
    {
     "name": "stdout",
     "output_type": "stream",
     "text": [
      " ARIMA(1,1,2)(0,1,1)[12]             : AIC=3066.424, Time=0.36 sec\n",
      " ARIMA(0,1,3)(0,1,1)[12]             : AIC=3066.351, Time=0.34 sec\n"
     ]
    },
    {
     "name": "stderr",
     "output_type": "stream",
     "text": [
      "//anaconda3/envs/py3/lib/python3.7/site-packages/statsmodels/tsa/statespace/sarimax.py:1899: RuntimeWarning: invalid value encountered in reciprocal\n",
      "  return np.roots(self.polynomial_reduced_ar)**-1\n"
     ]
    },
    {
     "name": "stdout",
     "output_type": "stream",
     "text": [
      " ARIMA(1,1,3)(0,1,1)[12]             : AIC=3068.295, Time=0.64 sec\n",
      " ARIMA(0,1,2)(0,1,1)[12] intercept   : AIC=3066.787, Time=0.25 sec\n",
      "\n",
      "Best model:  ARIMA(0,1,2)(0,1,1)[12]          \n",
      "Total fit time: 7.783 seconds\n"
     ]
    },
    {
     "data": {
      "text/html": [
       "<table class=\"simpletable\">\n",
       "<caption>SARIMAX Results</caption>\n",
       "<tr>\n",
       "  <th>Dep. Variable:</th>                   <td>y</td>                <th>  No. Observations:  </th>    <td>176</td>   \n",
       "</tr>\n",
       "<tr>\n",
       "  <th>Model:</th>           <td>SARIMAX(0, 1, 2)x(0, 1, [1], 12)</td> <th>  Log Likelihood     </th> <td>-1528.766</td>\n",
       "</tr>\n",
       "<tr>\n",
       "  <th>Date:</th>                    <td>Thu, 11 May 2023</td>         <th>  AIC                </th> <td>3065.533</td> \n",
       "</tr>\n",
       "<tr>\n",
       "  <th>Time:</th>                        <td>16:50:56</td>             <th>  BIC                </th> <td>3077.908</td> \n",
       "</tr>\n",
       "<tr>\n",
       "  <th>Sample:</th>                          <td>0</td>                <th>  HQIC               </th> <td>3070.557</td> \n",
       "</tr>\n",
       "<tr>\n",
       "  <th></th>                              <td> - 176</td>              <th>                     </th>     <td> </td>    \n",
       "</tr>\n",
       "<tr>\n",
       "  <th>Covariance Type:</th>                <td>opg</td>               <th>                     </th>     <td> </td>    \n",
       "</tr>\n",
       "</table>\n",
       "<table class=\"simpletable\">\n",
       "<tr>\n",
       "      <td></td>        <th>coef</th>     <th>std err</th>      <th>z</th>      <th>P>|z|</th>  <th>[0.025</th>    <th>0.975]</th>  \n",
       "</tr>\n",
       "<tr>\n",
       "  <th>ma.L1</th>    <td>   -0.5756</td> <td>    0.041</td> <td>  -13.952</td> <td> 0.000</td> <td>   -0.656</td> <td>   -0.495</td>\n",
       "</tr>\n",
       "<tr>\n",
       "  <th>ma.L2</th>    <td>   -0.1065</td> <td>    0.048</td> <td>   -2.224</td> <td> 0.026</td> <td>   -0.200</td> <td>   -0.013</td>\n",
       "</tr>\n",
       "<tr>\n",
       "  <th>ma.S.L12</th> <td>   -0.3848</td> <td>    0.054</td> <td>   -7.156</td> <td> 0.000</td> <td>   -0.490</td> <td>   -0.279</td>\n",
       "</tr>\n",
       "<tr>\n",
       "  <th>sigma2</th>   <td> 7.866e+06</td> <td> 7.01e+05</td> <td>   11.228</td> <td> 0.000</td> <td> 6.49e+06</td> <td> 9.24e+06</td>\n",
       "</tr>\n",
       "</table>\n",
       "<table class=\"simpletable\">\n",
       "<tr>\n",
       "  <th>Ljung-Box (L1) (Q):</th>     <td>2.84</td> <th>  Jarque-Bera (JB):  </th> <td>18.05</td>\n",
       "</tr>\n",
       "<tr>\n",
       "  <th>Prob(Q):</th>                <td>0.09</td> <th>  Prob(JB):          </th> <td>0.00</td> \n",
       "</tr>\n",
       "<tr>\n",
       "  <th>Heteroskedasticity (H):</th> <td>1.17</td> <th>  Skew:              </th> <td>-0.55</td>\n",
       "</tr>\n",
       "<tr>\n",
       "  <th>Prob(H) (two-sided):</th>    <td>0.56</td> <th>  Kurtosis:          </th> <td>4.21</td> \n",
       "</tr>\n",
       "</table><br/><br/>Warnings:<br/>[1] Covariance matrix calculated using the outer product of gradients (complex-step)."
      ],
      "text/plain": [
       "<class 'statsmodels.iolib.summary.Summary'>\n",
       "\"\"\"\n",
       "                                      SARIMAX Results                                       \n",
       "============================================================================================\n",
       "Dep. Variable:                                    y   No. Observations:                  176\n",
       "Model:             SARIMAX(0, 1, 2)x(0, 1, [1], 12)   Log Likelihood               -1528.766\n",
       "Date:                              Thu, 11 May 2023   AIC                           3065.533\n",
       "Time:                                      16:50:56   BIC                           3077.908\n",
       "Sample:                                           0   HQIC                          3070.557\n",
       "                                              - 176                                         \n",
       "Covariance Type:                                opg                                         \n",
       "==============================================================================\n",
       "                 coef    std err          z      P>|z|      [0.025      0.975]\n",
       "------------------------------------------------------------------------------\n",
       "ma.L1         -0.5756      0.041    -13.952      0.000      -0.656      -0.495\n",
       "ma.L2         -0.1065      0.048     -2.224      0.026      -0.200      -0.013\n",
       "ma.S.L12      -0.3848      0.054     -7.156      0.000      -0.490      -0.279\n",
       "sigma2      7.866e+06   7.01e+05     11.228      0.000    6.49e+06    9.24e+06\n",
       "===================================================================================\n",
       "Ljung-Box (L1) (Q):                   2.84   Jarque-Bera (JB):                18.05\n",
       "Prob(Q):                              0.09   Prob(JB):                         0.00\n",
       "Heteroskedasticity (H):               1.17   Skew:                            -0.55\n",
       "Prob(H) (two-sided):                  0.56   Kurtosis:                         4.21\n",
       "===================================================================================\n",
       "\n",
       "Warnings:\n",
       "[1] Covariance matrix calculated using the outer product of gradients (complex-step).\n",
       "\"\"\""
      ]
     },
     "execution_count": 9,
     "metadata": {},
     "output_type": "execute_result"
    }
   ],
   "source": [
    "# fitting a stepwise model:\n",
    "stepwise_fit = pm.auto_arima(wineind, start_p=1, start_q=1, max_p=3, max_q=3, m=12,\n",
    "                             start_P=0, seasonal=True, d=1, D=1, trace=True,\n",
    "                             error_action='ignore',  # don't want to know if an order does not work\n",
    "                             suppress_warnings=True,  # don't want convergence warnings\n",
    "                             stepwise=True)  # set to stepwise\n",
    "\n",
    "stepwise_fit.summary()"
   ]
  },
  {
   "cell_type": "markdown",
   "metadata": {},
   "source": [
    "### Fitting a random search\n",
    "\n",
    "If you don't want to use the `stepwise` search, `auto_arima` can fit a random search by enabling `random=True`. If your random search returns too many invalid (nan) models, you might try increasing `n_fits` or making it an exhaustive search (`stepwise=False, random=False`)."
   ]
  },
  {
   "cell_type": "code",
   "execution_count": 10,
   "metadata": {},
   "outputs": [
    {
     "name": "stderr",
     "output_type": "stream",
     "text": [
      "//anaconda3/envs/py3/lib/python3.7/site-packages/pmdarima/arima/_auto_solvers.py:103: VisibleDeprecationWarning: Creating an ndarray from ragged nested sequences (which is a list-or-tuple of lists-or-tuples-or ndarrays with different lengths or shapes) is deprecated. If you meant to do this, you must specify 'dtype=object' when creating the ndarray.\n",
      "  gen = random_state.permutation(list(gen))[:n_fits]\n"
     ]
    },
    {
     "name": "stdout",
     "output_type": "stream",
     "text": [
      "\n",
      "Best model:  ARIMA(0,1,2)(1,1,1)[12]          \n",
      "Total fit time: 22.730 seconds\n"
     ]
    },
    {
     "data": {
      "text/html": [
       "<table class=\"simpletable\">\n",
       "<caption>SARIMAX Results</caption>\n",
       "<tr>\n",
       "  <th>Dep. Variable:</th>                   <td>y</td>                <th>  No. Observations:  </th>    <td>176</td>   \n",
       "</tr>\n",
       "<tr>\n",
       "  <th>Model:</th>           <td>SARIMAX(0, 1, 2)x(1, 1, [1], 12)</td> <th>  Log Likelihood     </th> <td>-1528.119</td>\n",
       "</tr>\n",
       "<tr>\n",
       "  <th>Date:</th>                    <td>Thu, 11 May 2023</td>         <th>  AIC                </th> <td>3066.239</td> \n",
       "</tr>\n",
       "<tr>\n",
       "  <th>Time:</th>                        <td>16:51:19</td>             <th>  BIC                </th> <td>3081.708</td> \n",
       "</tr>\n",
       "<tr>\n",
       "  <th>Sample:</th>                          <td>0</td>                <th>  HQIC               </th> <td>3072.519</td> \n",
       "</tr>\n",
       "<tr>\n",
       "  <th></th>                              <td> - 176</td>              <th>                     </th>     <td> </td>    \n",
       "</tr>\n",
       "<tr>\n",
       "  <th>Covariance Type:</th>                <td>opg</td>               <th>                     </th>     <td> </td>    \n",
       "</tr>\n",
       "</table>\n",
       "<table class=\"simpletable\">\n",
       "<tr>\n",
       "      <td></td>        <th>coef</th>     <th>std err</th>      <th>z</th>      <th>P>|z|</th>  <th>[0.025</th>    <th>0.975]</th>  \n",
       "</tr>\n",
       "<tr>\n",
       "  <th>ma.L1</th>    <td>   -0.5586</td> <td>    0.043</td> <td>  -13.004</td> <td> 0.000</td> <td>   -0.643</td> <td>   -0.474</td>\n",
       "</tr>\n",
       "<tr>\n",
       "  <th>ma.L2</th>    <td>   -0.1147</td> <td>    0.048</td> <td>   -2.379</td> <td> 0.017</td> <td>   -0.209</td> <td>   -0.020</td>\n",
       "</tr>\n",
       "<tr>\n",
       "  <th>ar.S.L12</th> <td>    0.2244</td> <td>    0.158</td> <td>    1.417</td> <td> 0.156</td> <td>   -0.086</td> <td>    0.535</td>\n",
       "</tr>\n",
       "<tr>\n",
       "  <th>ma.S.L12</th> <td>   -0.5922</td> <td>    0.157</td> <td>   -3.765</td> <td> 0.000</td> <td>   -0.901</td> <td>   -0.284</td>\n",
       "</tr>\n",
       "<tr>\n",
       "  <th>sigma2</th>   <td> 7.866e+06</td> <td> 7.74e+05</td> <td>   10.166</td> <td> 0.000</td> <td> 6.35e+06</td> <td> 9.38e+06</td>\n",
       "</tr>\n",
       "</table>\n",
       "<table class=\"simpletable\">\n",
       "<tr>\n",
       "  <th>Ljung-Box (L1) (Q):</th>     <td>3.07</td> <th>  Jarque-Bera (JB):  </th> <td>14.97</td>\n",
       "</tr>\n",
       "<tr>\n",
       "  <th>Prob(Q):</th>                <td>0.08</td> <th>  Prob(JB):          </th> <td>0.00</td> \n",
       "</tr>\n",
       "<tr>\n",
       "  <th>Heteroskedasticity (H):</th> <td>1.19</td> <th>  Skew:              </th> <td>-0.49</td>\n",
       "</tr>\n",
       "<tr>\n",
       "  <th>Prob(H) (two-sided):</th>    <td>0.53</td> <th>  Kurtosis:          </th> <td>4.12</td> \n",
       "</tr>\n",
       "</table><br/><br/>Warnings:<br/>[1] Covariance matrix calculated using the outer product of gradients (complex-step)."
      ],
      "text/plain": [
       "<class 'statsmodels.iolib.summary.Summary'>\n",
       "\"\"\"\n",
       "                                      SARIMAX Results                                       \n",
       "============================================================================================\n",
       "Dep. Variable:                                    y   No. Observations:                  176\n",
       "Model:             SARIMAX(0, 1, 2)x(1, 1, [1], 12)   Log Likelihood               -1528.119\n",
       "Date:                              Thu, 11 May 2023   AIC                           3066.239\n",
       "Time:                                      16:51:19   BIC                           3081.708\n",
       "Sample:                                           0   HQIC                          3072.519\n",
       "                                              - 176                                         \n",
       "Covariance Type:                                opg                                         \n",
       "==============================================================================\n",
       "                 coef    std err          z      P>|z|      [0.025      0.975]\n",
       "------------------------------------------------------------------------------\n",
       "ma.L1         -0.5586      0.043    -13.004      0.000      -0.643      -0.474\n",
       "ma.L2         -0.1147      0.048     -2.379      0.017      -0.209      -0.020\n",
       "ar.S.L12       0.2244      0.158      1.417      0.156      -0.086       0.535\n",
       "ma.S.L12      -0.5922      0.157     -3.765      0.000      -0.901      -0.284\n",
       "sigma2      7.866e+06   7.74e+05     10.166      0.000    6.35e+06    9.38e+06\n",
       "===================================================================================\n",
       "Ljung-Box (L1) (Q):                   3.07   Jarque-Bera (JB):                14.97\n",
       "Prob(Q):                              0.08   Prob(JB):                         0.00\n",
       "Heteroskedasticity (H):               1.19   Skew:                            -0.49\n",
       "Prob(H) (two-sided):                  0.53   Kurtosis:                         4.12\n",
       "===================================================================================\n",
       "\n",
       "Warnings:\n",
       "[1] Covariance matrix calculated using the outer product of gradients (complex-step).\n",
       "\"\"\""
      ]
     },
     "execution_count": 10,
     "metadata": {},
     "output_type": "execute_result"
    }
   ],
   "source": [
    "rs_fit = pm.auto_arima(wineind, start_p=1, start_q=1, max_p=3, max_q=3, m=12,\n",
    "                       start_P=0, seasonal=True, d=1, D=1, trace=True,\n",
    "                       n_jobs=-1,  # We can run this in parallel by controlling this option\n",
    "                       error_action='ignore',  # don't want to know if an order does not work\n",
    "                       suppress_warnings=True,  # don't want convergence warnings\n",
    "                       stepwise=False, random=True, random_state=42,  # we can fit a random search (not exhaustive)\n",
    "                       n_fits=25)\n",
    "\n",
    "rs_fit.summary()"
   ]
  },
  {
   "cell_type": "markdown",
   "metadata": {},
   "source": [
    "## Inspecting goodness of fit\n",
    "\n",
    "We can look at how well the model fits in-sample data:"
   ]
  },
  {
   "cell_type": "code",
   "execution_count": 19,
   "metadata": {},
   "outputs": [
    {
     "data": {
      "text/html": [
       "<div class=\"bk-root\">\n",
       "        <a href=\"https://bokeh.org\" target=\"_blank\" class=\"bk-logo bk-logo-small bk-logo-notebook\"></a>\n",
       "        <span id=\"1465\">Loading BokehJS ...</span>\n",
       "    </div>\n"
      ]
     },
     "metadata": {},
     "output_type": "display_data"
    },
    {
     "data": {
      "application/javascript": [
       "(function(root) {\n",
       "  function now() {\n",
       "    return new Date();\n",
       "  }\n",
       "\n",
       "  const force = true;\n",
       "\n",
       "  if (typeof root._bokeh_onload_callbacks === \"undefined\" || force === true) {\n",
       "    root._bokeh_onload_callbacks = [];\n",
       "    root._bokeh_is_loading = undefined;\n",
       "  }\n",
       "\n",
       "const JS_MIME_TYPE = 'application/javascript';\n",
       "  const HTML_MIME_TYPE = 'text/html';\n",
       "  const EXEC_MIME_TYPE = 'application/vnd.bokehjs_exec.v0+json';\n",
       "  const CLASS_NAME = 'output_bokeh rendered_html';\n",
       "\n",
       "  /**\n",
       "   * Render data to the DOM node\n",
       "   */\n",
       "  function render(props, node) {\n",
       "    const script = document.createElement(\"script\");\n",
       "    node.appendChild(script);\n",
       "  }\n",
       "\n",
       "  /**\n",
       "   * Handle when an output is cleared or removed\n",
       "   */\n",
       "  function handleClearOutput(event, handle) {\n",
       "    const cell = handle.cell;\n",
       "\n",
       "    const id = cell.output_area._bokeh_element_id;\n",
       "    const server_id = cell.output_area._bokeh_server_id;\n",
       "    // Clean up Bokeh references\n",
       "    if (id != null && id in Bokeh.index) {\n",
       "      Bokeh.index[id].model.document.clear();\n",
       "      delete Bokeh.index[id];\n",
       "    }\n",
       "\n",
       "    if (server_id !== undefined) {\n",
       "      // Clean up Bokeh references\n",
       "      const cmd_clean = \"from bokeh.io.state import curstate; print(curstate().uuid_to_server['\" + server_id + \"'].get_sessions()[0].document.roots[0]._id)\";\n",
       "      cell.notebook.kernel.execute(cmd_clean, {\n",
       "        iopub: {\n",
       "          output: function(msg) {\n",
       "            const id = msg.content.text.trim();\n",
       "            if (id in Bokeh.index) {\n",
       "              Bokeh.index[id].model.document.clear();\n",
       "              delete Bokeh.index[id];\n",
       "            }\n",
       "          }\n",
       "        }\n",
       "      });\n",
       "      // Destroy server and session\n",
       "      const cmd_destroy = \"import bokeh.io.notebook as ion; ion.destroy_server('\" + server_id + \"')\";\n",
       "      cell.notebook.kernel.execute(cmd_destroy);\n",
       "    }\n",
       "  }\n",
       "\n",
       "  /**\n",
       "   * Handle when a new output is added\n",
       "   */\n",
       "  function handleAddOutput(event, handle) {\n",
       "    const output_area = handle.output_area;\n",
       "    const output = handle.output;\n",
       "\n",
       "    // limit handleAddOutput to display_data with EXEC_MIME_TYPE content only\n",
       "    if ((output.output_type != \"display_data\") || (!Object.prototype.hasOwnProperty.call(output.data, EXEC_MIME_TYPE))) {\n",
       "      return\n",
       "    }\n",
       "\n",
       "    const toinsert = output_area.element.find(\".\" + CLASS_NAME.split(' ')[0]);\n",
       "\n",
       "    if (output.metadata[EXEC_MIME_TYPE][\"id\"] !== undefined) {\n",
       "      toinsert[toinsert.length - 1].firstChild.textContent = output.data[JS_MIME_TYPE];\n",
       "      // store reference to embed id on output_area\n",
       "      output_area._bokeh_element_id = output.metadata[EXEC_MIME_TYPE][\"id\"];\n",
       "    }\n",
       "    if (output.metadata[EXEC_MIME_TYPE][\"server_id\"] !== undefined) {\n",
       "      const bk_div = document.createElement(\"div\");\n",
       "      bk_div.innerHTML = output.data[HTML_MIME_TYPE];\n",
       "      const script_attrs = bk_div.children[0].attributes;\n",
       "      for (let i = 0; i < script_attrs.length; i++) {\n",
       "        toinsert[toinsert.length - 1].firstChild.setAttribute(script_attrs[i].name, script_attrs[i].value);\n",
       "        toinsert[toinsert.length - 1].firstChild.textContent = bk_div.children[0].textContent\n",
       "      }\n",
       "      // store reference to server id on output_area\n",
       "      output_area._bokeh_server_id = output.metadata[EXEC_MIME_TYPE][\"server_id\"];\n",
       "    }\n",
       "  }\n",
       "\n",
       "  function register_renderer(events, OutputArea) {\n",
       "\n",
       "    function append_mime(data, metadata, element) {\n",
       "      // create a DOM node to render to\n",
       "      const toinsert = this.create_output_subarea(\n",
       "        metadata,\n",
       "        CLASS_NAME,\n",
       "        EXEC_MIME_TYPE\n",
       "      );\n",
       "      this.keyboard_manager.register_events(toinsert);\n",
       "      // Render to node\n",
       "      const props = {data: data, metadata: metadata[EXEC_MIME_TYPE]};\n",
       "      render(props, toinsert[toinsert.length - 1]);\n",
       "      element.append(toinsert);\n",
       "      return toinsert\n",
       "    }\n",
       "\n",
       "    /* Handle when an output is cleared or removed */\n",
       "    events.on('clear_output.CodeCell', handleClearOutput);\n",
       "    events.on('delete.Cell', handleClearOutput);\n",
       "\n",
       "    /* Handle when a new output is added */\n",
       "    events.on('output_added.OutputArea', handleAddOutput);\n",
       "\n",
       "    /**\n",
       "     * Register the mime type and append_mime function with output_area\n",
       "     */\n",
       "    OutputArea.prototype.register_mime_type(EXEC_MIME_TYPE, append_mime, {\n",
       "      /* Is output safe? */\n",
       "      safe: true,\n",
       "      /* Index of renderer in `output_area.display_order` */\n",
       "      index: 0\n",
       "    });\n",
       "  }\n",
       "\n",
       "  // register the mime type if in Jupyter Notebook environment and previously unregistered\n",
       "  if (root.Jupyter !== undefined) {\n",
       "    const events = require('base/js/events');\n",
       "    const OutputArea = require('notebook/js/outputarea').OutputArea;\n",
       "\n",
       "    if (OutputArea.prototype.mime_types().indexOf(EXEC_MIME_TYPE) == -1) {\n",
       "      register_renderer(events, OutputArea);\n",
       "    }\n",
       "  }\n",
       "  if (typeof (root._bokeh_timeout) === \"undefined\" || force === true) {\n",
       "    root._bokeh_timeout = Date.now() + 5000;\n",
       "    root._bokeh_failed_load = false;\n",
       "  }\n",
       "\n",
       "  const NB_LOAD_WARNING = {'data': {'text/html':\n",
       "     \"<div style='background-color: #fdd'>\\n\"+\n",
       "     \"<p>\\n\"+\n",
       "     \"BokehJS does not appear to have successfully loaded. If loading BokehJS from CDN, this \\n\"+\n",
       "     \"may be due to a slow or bad network connection. Possible fixes:\\n\"+\n",
       "     \"</p>\\n\"+\n",
       "     \"<ul>\\n\"+\n",
       "     \"<li>re-rerun `output_notebook()` to attempt to load from CDN again, or</li>\\n\"+\n",
       "     \"<li>use INLINE resources instead, as so:</li>\\n\"+\n",
       "     \"</ul>\\n\"+\n",
       "     \"<code>\\n\"+\n",
       "     \"from bokeh.resources import INLINE\\n\"+\n",
       "     \"output_notebook(resources=INLINE)\\n\"+\n",
       "     \"</code>\\n\"+\n",
       "     \"</div>\"}};\n",
       "\n",
       "  function display_loaded() {\n",
       "    const el = document.getElementById(\"1465\");\n",
       "    if (el != null) {\n",
       "      el.textContent = \"BokehJS is loading...\";\n",
       "    }\n",
       "    if (root.Bokeh !== undefined) {\n",
       "      if (el != null) {\n",
       "        el.textContent = \"BokehJS \" + root.Bokeh.version + \" successfully loaded.\";\n",
       "      }\n",
       "    } else if (Date.now() < root._bokeh_timeout) {\n",
       "      setTimeout(display_loaded, 100)\n",
       "    }\n",
       "  }\n",
       "\n",
       "  function run_callbacks() {\n",
       "    try {\n",
       "      root._bokeh_onload_callbacks.forEach(function(callback) {\n",
       "        if (callback != null)\n",
       "          callback();\n",
       "      });\n",
       "    } finally {\n",
       "      delete root._bokeh_onload_callbacks\n",
       "    }\n",
       "    console.debug(\"Bokeh: all callbacks have finished\");\n",
       "  }\n",
       "\n",
       "  function load_libs(css_urls, js_urls, callback) {\n",
       "    if (css_urls == null) css_urls = [];\n",
       "    if (js_urls == null) js_urls = [];\n",
       "\n",
       "    root._bokeh_onload_callbacks.push(callback);\n",
       "    if (root._bokeh_is_loading > 0) {\n",
       "      console.debug(\"Bokeh: BokehJS is being loaded, scheduling callback at\", now());\n",
       "      return null;\n",
       "    }\n",
       "    if (js_urls == null || js_urls.length === 0) {\n",
       "      run_callbacks();\n",
       "      return null;\n",
       "    }\n",
       "    console.debug(\"Bokeh: BokehJS not loaded, scheduling load and callback at\", now());\n",
       "    root._bokeh_is_loading = css_urls.length + js_urls.length;\n",
       "\n",
       "    function on_load() {\n",
       "      root._bokeh_is_loading--;\n",
       "      if (root._bokeh_is_loading === 0) {\n",
       "        console.debug(\"Bokeh: all BokehJS libraries/stylesheets loaded\");\n",
       "        run_callbacks()\n",
       "      }\n",
       "    }\n",
       "\n",
       "    function on_error(url) {\n",
       "      console.error(\"failed to load \" + url);\n",
       "    }\n",
       "\n",
       "    for (let i = 0; i < css_urls.length; i++) {\n",
       "      const url = css_urls[i];\n",
       "      const element = document.createElement(\"link\");\n",
       "      element.onload = on_load;\n",
       "      element.onerror = on_error.bind(null, url);\n",
       "      element.rel = \"stylesheet\";\n",
       "      element.type = \"text/css\";\n",
       "      element.href = url;\n",
       "      console.debug(\"Bokeh: injecting link tag for BokehJS stylesheet: \", url);\n",
       "      document.body.appendChild(element);\n",
       "    }\n",
       "\n",
       "    for (let i = 0; i < js_urls.length; i++) {\n",
       "      const url = js_urls[i];\n",
       "      const element = document.createElement('script');\n",
       "      element.onload = on_load;\n",
       "      element.onerror = on_error.bind(null, url);\n",
       "      element.async = false;\n",
       "      element.src = url;\n",
       "      console.debug(\"Bokeh: injecting script tag for BokehJS library: \", url);\n",
       "      document.head.appendChild(element);\n",
       "    }\n",
       "  };\n",
       "\n",
       "  function inject_raw_css(css) {\n",
       "    const element = document.createElement(\"style\");\n",
       "    element.appendChild(document.createTextNode(css));\n",
       "    document.body.appendChild(element);\n",
       "  }\n",
       "\n",
       "  const js_urls = [\"https://cdn.bokeh.org/bokeh/release/bokeh-2.4.3.min.js\", \"https://cdn.bokeh.org/bokeh/release/bokeh-gl-2.4.3.min.js\", \"https://cdn.bokeh.org/bokeh/release/bokeh-widgets-2.4.3.min.js\", \"https://cdn.bokeh.org/bokeh/release/bokeh-tables-2.4.3.min.js\", \"https://cdn.bokeh.org/bokeh/release/bokeh-mathjax-2.4.3.min.js\"];\n",
       "  const css_urls = [];\n",
       "\n",
       "  const inline_js = [    function(Bokeh) {\n",
       "      Bokeh.set_log_level(\"info\");\n",
       "    },\n",
       "function(Bokeh) {\n",
       "    }\n",
       "  ];\n",
       "\n",
       "  function run_inline_js() {\n",
       "    if (root.Bokeh !== undefined || force === true) {\n",
       "          for (let i = 0; i < inline_js.length; i++) {\n",
       "      inline_js[i].call(root, root.Bokeh);\n",
       "    }\n",
       "if (force === true) {\n",
       "        display_loaded();\n",
       "      }} else if (Date.now() < root._bokeh_timeout) {\n",
       "      setTimeout(run_inline_js, 100);\n",
       "    } else if (!root._bokeh_failed_load) {\n",
       "      console.log(\"Bokeh: BokehJS failed to load within specified timeout.\");\n",
       "      root._bokeh_failed_load = true;\n",
       "    } else if (force !== true) {\n",
       "      const cell = $(document.getElementById(\"1465\")).parents('.cell').data().cell;\n",
       "      cell.output_area.append_execute_result(NB_LOAD_WARNING)\n",
       "    }\n",
       "  }\n",
       "\n",
       "  if (root._bokeh_is_loading === 0) {\n",
       "    console.debug(\"Bokeh: BokehJS loaded, going straight to plotting\");\n",
       "    run_inline_js();\n",
       "  } else {\n",
       "    load_libs(css_urls, js_urls, function() {\n",
       "      console.debug(\"Bokeh: BokehJS plotting callback run at\", now());\n",
       "      run_inline_js();\n",
       "    });\n",
       "  }\n",
       "}(window));"
      ],
      "application/vnd.bokehjs_load.v0+json": "(function(root) {\n  function now() {\n    return new Date();\n  }\n\n  const force = true;\n\n  if (typeof root._bokeh_onload_callbacks === \"undefined\" || force === true) {\n    root._bokeh_onload_callbacks = [];\n    root._bokeh_is_loading = undefined;\n  }\n\n\n  if (typeof (root._bokeh_timeout) === \"undefined\" || force === true) {\n    root._bokeh_timeout = Date.now() + 5000;\n    root._bokeh_failed_load = false;\n  }\n\n  const NB_LOAD_WARNING = {'data': {'text/html':\n     \"<div style='background-color: #fdd'>\\n\"+\n     \"<p>\\n\"+\n     \"BokehJS does not appear to have successfully loaded. If loading BokehJS from CDN, this \\n\"+\n     \"may be due to a slow or bad network connection. Possible fixes:\\n\"+\n     \"</p>\\n\"+\n     \"<ul>\\n\"+\n     \"<li>re-rerun `output_notebook()` to attempt to load from CDN again, or</li>\\n\"+\n     \"<li>use INLINE resources instead, as so:</li>\\n\"+\n     \"</ul>\\n\"+\n     \"<code>\\n\"+\n     \"from bokeh.resources import INLINE\\n\"+\n     \"output_notebook(resources=INLINE)\\n\"+\n     \"</code>\\n\"+\n     \"</div>\"}};\n\n  function display_loaded() {\n    const el = document.getElementById(\"1465\");\n    if (el != null) {\n      el.textContent = \"BokehJS is loading...\";\n    }\n    if (root.Bokeh !== undefined) {\n      if (el != null) {\n        el.textContent = \"BokehJS \" + root.Bokeh.version + \" successfully loaded.\";\n      }\n    } else if (Date.now() < root._bokeh_timeout) {\n      setTimeout(display_loaded, 100)\n    }\n  }\n\n  function run_callbacks() {\n    try {\n      root._bokeh_onload_callbacks.forEach(function(callback) {\n        if (callback != null)\n          callback();\n      });\n    } finally {\n      delete root._bokeh_onload_callbacks\n    }\n    console.debug(\"Bokeh: all callbacks have finished\");\n  }\n\n  function load_libs(css_urls, js_urls, callback) {\n    if (css_urls == null) css_urls = [];\n    if (js_urls == null) js_urls = [];\n\n    root._bokeh_onload_callbacks.push(callback);\n    if (root._bokeh_is_loading > 0) {\n      console.debug(\"Bokeh: BokehJS is being loaded, scheduling callback at\", now());\n      return null;\n    }\n    if (js_urls == null || js_urls.length === 0) {\n      run_callbacks();\n      return null;\n    }\n    console.debug(\"Bokeh: BokehJS not loaded, scheduling load and callback at\", now());\n    root._bokeh_is_loading = css_urls.length + js_urls.length;\n\n    function on_load() {\n      root._bokeh_is_loading--;\n      if (root._bokeh_is_loading === 0) {\n        console.debug(\"Bokeh: all BokehJS libraries/stylesheets loaded\");\n        run_callbacks()\n      }\n    }\n\n    function on_error(url) {\n      console.error(\"failed to load \" + url);\n    }\n\n    for (let i = 0; i < css_urls.length; i++) {\n      const url = css_urls[i];\n      const element = document.createElement(\"link\");\n      element.onload = on_load;\n      element.onerror = on_error.bind(null, url);\n      element.rel = \"stylesheet\";\n      element.type = \"text/css\";\n      element.href = url;\n      console.debug(\"Bokeh: injecting link tag for BokehJS stylesheet: \", url);\n      document.body.appendChild(element);\n    }\n\n    for (let i = 0; i < js_urls.length; i++) {\n      const url = js_urls[i];\n      const element = document.createElement('script');\n      element.onload = on_load;\n      element.onerror = on_error.bind(null, url);\n      element.async = false;\n      element.src = url;\n      console.debug(\"Bokeh: injecting script tag for BokehJS library: \", url);\n      document.head.appendChild(element);\n    }\n  };\n\n  function inject_raw_css(css) {\n    const element = document.createElement(\"style\");\n    element.appendChild(document.createTextNode(css));\n    document.body.appendChild(element);\n  }\n\n  const js_urls = [\"https://cdn.bokeh.org/bokeh/release/bokeh-2.4.3.min.js\", \"https://cdn.bokeh.org/bokeh/release/bokeh-gl-2.4.3.min.js\", \"https://cdn.bokeh.org/bokeh/release/bokeh-widgets-2.4.3.min.js\", \"https://cdn.bokeh.org/bokeh/release/bokeh-tables-2.4.3.min.js\", \"https://cdn.bokeh.org/bokeh/release/bokeh-mathjax-2.4.3.min.js\"];\n  const css_urls = [];\n\n  const inline_js = [    function(Bokeh) {\n      Bokeh.set_log_level(\"info\");\n    },\nfunction(Bokeh) {\n    }\n  ];\n\n  function run_inline_js() {\n    if (root.Bokeh !== undefined || force === true) {\n          for (let i = 0; i < inline_js.length; i++) {\n      inline_js[i].call(root, root.Bokeh);\n    }\nif (force === true) {\n        display_loaded();\n      }} else if (Date.now() < root._bokeh_timeout) {\n      setTimeout(run_inline_js, 100);\n    } else if (!root._bokeh_failed_load) {\n      console.log(\"Bokeh: BokehJS failed to load within specified timeout.\");\n      root._bokeh_failed_load = true;\n    } else if (force !== true) {\n      const cell = $(document.getElementById(\"1465\")).parents('.cell').data().cell;\n      cell.output_area.append_execute_result(NB_LOAD_WARNING)\n    }\n  }\n\n  if (root._bokeh_is_loading === 0) {\n    console.debug(\"Bokeh: BokehJS loaded, going straight to plotting\");\n    run_inline_js();\n  } else {\n    load_libs(css_urls, js_urls, function() {\n      console.debug(\"Bokeh: BokehJS plotting callback run at\", now());\n      run_inline_js();\n    });\n  }\n}(window));"
     },
     "metadata": {},
     "output_type": "display_data"
    }
   ],
   "source": [
    "from bokeh.plotting import figure, show, output_notebook\n",
    "import pandas as pd\n",
    "\n",
    "# init bokeh\n",
    "output_notebook()\n",
    "\n",
    "def plot_arima(truth, forecasts, title=\"ARIMA\", xaxis_label='Time',\n",
    "               yaxis_label='Value', c1='#A6CEE3', c2='#B2DF8A', \n",
    "               forecast_start=None, **kwargs):\n",
    "    \n",
    "    # make truth and forecasts into pandas series\n",
    "    n_truth = truth.shape[0]\n",
    "    n_forecasts = forecasts.shape[0]\n",
    "    \n",
    "    # always plot truth the same\n",
    "    truth = pd.Series(truth, index=np.arange(truth.shape[0]))\n",
    "    \n",
    "    # if no defined forecast start, start at the end\n",
    "    if forecast_start is None:\n",
    "        idx = np.arange(n_truth, n_truth + n_forecasts)\n",
    "    else:\n",
    "        idx = np.arange(forecast_start, n_forecasts)\n",
    "    forecasts = pd.Series(forecasts, index=idx)\n",
    "    \n",
    "    # set up the plot\n",
    "    p = figure(title=title, plot_height=400, **kwargs)\n",
    "    p.grid.grid_line_alpha=0.3\n",
    "    p.xaxis.axis_label = xaxis_label\n",
    "    p.yaxis.axis_label = yaxis_label\n",
    "    \n",
    "    # add the lines\n",
    "    p.line(truth.index, truth.values, color=c1, legend_label='Observed')\n",
    "    p.line(forecasts.index, forecasts.values, color=c2, legend_label='Forecasted')\n",
    "    \n",
    "    return p"
   ]
  },
  {
   "cell_type": "code",
   "execution_count": 20,
   "metadata": {},
   "outputs": [
    {
     "data": {
      "text/plain": [
       "array([    0.        ,  9824.81821   , 12867.12617246, 16081.18015851,\n",
       "       16446.13596489, 17110.88209357, 18038.82737534, 20257.17107204,\n",
       "       21637.21204613, 21173.79437422])"
      ]
     },
     "execution_count": 20,
     "metadata": {},
     "output_type": "execute_result"
    }
   ],
   "source": [
    "in_sample_preds = stepwise_fit.predict_in_sample()\n",
    "in_sample_preds[:10]"
   ]
  },
  {
   "cell_type": "code",
   "execution_count": 21,
   "metadata": {},
   "outputs": [
    {
     "data": {
      "text/html": [
       "\n",
       "  <div class=\"bk-root\" id=\"d66aa749-c380-427a-9a5d-2d93a8909785\" data-root-id=\"1466\"></div>\n"
      ]
     },
     "metadata": {},
     "output_type": "display_data"
    },
    {
     "data": {
      "application/javascript": [
       "(function(root) {\n",
       "  function embed_document(root) {\n",
       "  const docs_json = {\"e0771f36-31b5-43e2-a123-6a3e911316af\":{\"defs\":[],\"roots\":{\"references\":[{\"attributes\":{\"below\":[{\"id\":\"1477\"}],\"center\":[{\"id\":\"1480\"},{\"id\":\"1484\"},{\"id\":\"1515\"}],\"height\":400,\"left\":[{\"id\":\"1481\"}],\"renderers\":[{\"id\":\"1503\"},{\"id\":\"1521\"}],\"title\":{\"id\":\"1467\"},\"toolbar\":{\"id\":\"1492\"},\"x_range\":{\"id\":\"1469\"},\"x_scale\":{\"id\":\"1473\"},\"y_range\":{\"id\":\"1471\"},\"y_scale\":{\"id\":\"1475\"}},\"id\":\"1466\",\"subtype\":\"Figure\",\"type\":\"Plot\"},{\"attributes\":{},\"id\":\"1473\",\"type\":\"LinearScale\"},{\"attributes\":{\"coordinates\":null,\"group\":null,\"text\":\"Original Series & In-sample Predictions\"},\"id\":\"1467\",\"type\":\"Title\"},{\"attributes\":{\"axis_label\":\"Value\",\"coordinates\":null,\"formatter\":{\"id\":\"1507\"},\"group\":null,\"major_label_policy\":{\"id\":\"1508\"},\"ticker\":{\"id\":\"1482\"}},\"id\":\"1481\",\"type\":\"LinearAxis\"},{\"attributes\":{},\"id\":\"1532\",\"type\":\"UnionRenderers\"},{\"attributes\":{},\"id\":\"1533\",\"type\":\"Selection\"},{\"attributes\":{\"axis\":{\"id\":\"1481\"},\"coordinates\":null,\"dimension\":1,\"grid_line_alpha\":0.3,\"group\":null,\"ticker\":null},\"id\":\"1484\",\"type\":\"Grid\"},{\"attributes\":{\"line_color\":\"#FF0000\",\"x\":{\"field\":\"x\"},\"y\":{\"field\":\"y\"}},\"id\":\"1518\",\"type\":\"Line\"},{\"attributes\":{\"tools\":[{\"id\":\"1485\"},{\"id\":\"1486\"},{\"id\":\"1487\"},{\"id\":\"1488\"},{\"id\":\"1489\"},{\"id\":\"1490\"}]},\"id\":\"1492\",\"type\":\"Toolbar\"},{\"attributes\":{\"source\":{\"id\":\"1517\"}},\"id\":\"1522\",\"type\":\"CDSView\"},{\"attributes\":{\"bottom_units\":\"screen\",\"coordinates\":null,\"fill_alpha\":0.5,\"fill_color\":\"lightgrey\",\"group\":null,\"left_units\":\"screen\",\"level\":\"overlay\",\"line_alpha\":1.0,\"line_color\":\"black\",\"line_dash\":[4,4],\"line_width\":2,\"right_units\":\"screen\",\"syncable\":false,\"top_units\":\"screen\"},\"id\":\"1491\",\"type\":\"BoxAnnotation\"},{\"attributes\":{},\"id\":\"1482\",\"type\":\"BasicTicker\"},{\"attributes\":{},\"id\":\"1475\",\"type\":\"LinearScale\"},{\"attributes\":{\"coordinates\":null,\"data_source\":{\"id\":\"1499\"},\"glyph\":{\"id\":\"1500\"},\"group\":null,\"hover_glyph\":null,\"muted_glyph\":{\"id\":\"1502\"},\"nonselection_glyph\":{\"id\":\"1501\"},\"view\":{\"id\":\"1504\"}},\"id\":\"1503\",\"type\":\"GlyphRenderer\"},{\"attributes\":{\"coordinates\":null,\"group\":null,\"items\":[{\"id\":\"1516\"},{\"id\":\"1535\"}]},\"id\":\"1515\",\"type\":\"Legend\"},{\"attributes\":{\"line_alpha\":0.2,\"line_color\":\"#A6CEE3\",\"x\":{\"field\":\"x\"},\"y\":{\"field\":\"y\"}},\"id\":\"1502\",\"type\":\"Line\"},{\"attributes\":{},\"id\":\"1471\",\"type\":\"DataRange1d\"},{\"attributes\":{\"data\":{\"x\":[0,1,2,3,4,5,6,7,8,9,10,11,12,13,14,15,16,17,18,19,20,21,22,23,24,25,26,27,28,29,30,31,32,33,34,35,36,37,38,39,40,41,42,43,44,45,46,47,48,49,50,51,52,53,54,55,56,57,58,59,60,61,62,63,64,65,66,67,68,69,70,71,72,73,74,75,76,77,78,79,80,81,82,83,84,85,86,87,88,89,90,91,92,93,94,95,96,97,98,99,100,101,102,103,104,105,106,107,108,109,110,111,112,113,114,115,116,117,118,119,120,121,122,123,124,125,126,127,128,129,130,131,132,133,134,135,136,137,138,139,140,141,142,143,144,145,146,147,148,149,150,151,152,153,154,155,156,157,158,159,160,161,162,163,164,165,166,167,168,169,170,171,172,173,174,175],\"y\":{\"__ndarray__\":\"AAAAAACQzUAAAAAAQFfQQAAAAAAAjNNAAAAAAABL0UAAAAAAwJjRQAAAAADAxtJAAAAAAEBb1kAAAAAAwC7XQAAAAABAo9RAAAAAAMAP1kAAAAAAgCjaQAAAAAAAC91AAAAAAABazUAAAAAAQI7RQAAAAAAAitNAAAAAAIDa1EAAAAAAgArTQAAAAABAm9VAAAAAAEA22UAAAAAAwBrcQAAAAAAAeNRAAAAAAIC71UAAAAAAAMDaQAAAAABAPt1AAAAAAECJ0EAAAAAAAHnRQAAAAABADdRAAAAAAEAE10AAAAAAQOTVQAAAAAAAkdVAAAAAAAD12UAAAAAAgM/aQAAAAABAhNdAAAAAAMDm1kAAAAAAwE/cQAAAAACApt5AAAAAAACA0EAAAAAAQJPTQAAAAADA69ZAAAAAAMA81UAAAAAAQAXZQAAAAADATNdAAAAAAADn2EAAAAAAgEXeQAAAAADA5tdAAAAAAECa1kAAAAAAQAHdQAAAAACgx+BAAAAAAAAl0UAAAAAAQI/VQAAAAACAGdlAAAAAAICx1UAAAAAAgEHaQAAAAADApdZAAAAAAMAt20AAAAAAwEnhQAAAAADAptZAAAAAAICF2EAAAAAAQE7dQAAAAABAsuFAAAAAAIAE0kAAAAAAQFXVQAAAAAAA3tlAAAAAAIDe1UAAAAAAQGbbQAAAAADA2thAAAAAAABK2EAAAAAAAFLgQAAAAAAAfddAAAAAAEDI20AAAAAAoF/gQAAAAADgPOJAAAAAAECA00AAAAAAQDHVQAAAAABAotlAAAAAAEDr10AAAAAAwAbYQAAAAABA3dlAAAAAAMAA3kAAAAAAIOHgQAAAAABAENpAAAAAAECL2UAAAAAAAFDfQAAAAADA+uJAAAAAAEDW1EAAAAAAwPbSQAAAAACAn9ZAAAAAAICf20AAAAAAgP7XQAAAAABAcNdAAAAAAOAv4EAAAAAAgEvYQAAAAAAALdpAAAAAAMBJ3EAAAAAA4EPgQAAAAABApONAAAAAAAAG1EAAAAAAAIXWQAAAAACAAtdAAAAAAIDq2kAAAAAAAGHXQAAAAAAAAthAAAAAAOC/4EAAAAAAQOvYQAAAAACA8dZAAAAAAMBp3EAAAAAA4BDgQAAAAABgyeBAAAAAAMCX0EAAAAAAQJ3UQAAAAAAAL9dAAAAAAAD02EAAAAAAAD7VQAAAAACA0dNAAAAAAEBU3EAAAAAAAOfYQAAAAACAmddAAAAAAABU2kAAAAAAgH3eQAAAAAAg3uJAAAAAAACozEAAAAAAwCHRQAAAAABA29hAAAAAAMDq30AAAAAAQOzVQAAAAAAAy9VAAAAAAMDy2kAAAAAAwNrYQAAAAABA09hAAAAAAACy2EAAAAAAAM7fQAAAAADAJOFAAAAAAABaz0AAAAAAgKDVQAAAAACAs9RAAAAAAMAV00AAAAAAAJHVQAAAAAAAQtdAAAAAAEBC3UAAAAAAQCXaQAAAAADAAtpAAAAAAABX2kAAAAAAwH/dQAAAAADg4+JAAAAAAICT0EAAAAAAQDDVQAAAAADAnNdAAAAAAEAz10AAAAAAQG3YQAAAAADAdNdAAAAAAECi3UAAAAAAAOrXQAAAAAAAkdhAAAAAAIAM2UAAAAAAwDLeQAAAAAAAL+JAAAAAAIAO0UAAAAAAwAHTQAAAAAAAyNdAAAAAAEAt2kAAAAAAAKXYQAAAAADAJ9hAAAAAAACr3EAAAAAAgIDeQAAAAAAAMdZAAAAAAADU20AAAAAAIAvgQAAAAADAKeJAAAAAAACqykAAAAAAAEDWQAAAAABAA9dAAAAAAMC02UAAAAAAwDjXQAAAAABA59pAAAAAAAD33EAAAAAAAM/WQA==\",\"dtype\":\"float64\",\"order\":\"little\",\"shape\":[176]}},\"selected\":{\"id\":\"1513\"},\"selection_policy\":{\"id\":\"1512\"}},\"id\":\"1499\",\"type\":\"ColumnDataSource\"},{\"attributes\":{\"source\":{\"id\":\"1499\"}},\"id\":\"1504\",\"type\":\"CDSView\"},{\"attributes\":{\"axis_label\":\"Time\",\"coordinates\":null,\"formatter\":{\"id\":\"1510\"},\"group\":null,\"major_label_policy\":{\"id\":\"1511\"},\"ticker\":{\"id\":\"1478\"}},\"id\":\"1477\",\"type\":\"LinearAxis\"},{\"attributes\":{\"axis\":{\"id\":\"1477\"},\"coordinates\":null,\"grid_line_alpha\":0.3,\"group\":null,\"ticker\":null},\"id\":\"1480\",\"type\":\"Grid\"},{\"attributes\":{},\"id\":\"1486\",\"type\":\"WheelZoomTool\"},{\"attributes\":{},\"id\":\"1508\",\"type\":\"AllLabels\"},{\"attributes\":{},\"id\":\"1485\",\"type\":\"PanTool\"},{\"attributes\":{\"label\":{\"value\":\"Forecasted\"},\"renderers\":[{\"id\":\"1521\"}]},\"id\":\"1535\",\"type\":\"LegendItem\"},{\"attributes\":{},\"id\":\"1512\",\"type\":\"UnionRenderers\"},{\"attributes\":{},\"id\":\"1469\",\"type\":\"DataRange1d\"},{\"attributes\":{\"line_alpha\":0.1,\"line_color\":\"#A6CEE3\",\"x\":{\"field\":\"x\"},\"y\":{\"field\":\"y\"}},\"id\":\"1501\",\"type\":\"Line\"},{\"attributes\":{},\"id\":\"1488\",\"type\":\"SaveTool\"},{\"attributes\":{},\"id\":\"1490\",\"type\":\"HelpTool\"},{\"attributes\":{},\"id\":\"1510\",\"type\":\"BasicTickFormatter\"},{\"attributes\":{},\"id\":\"1489\",\"type\":\"ResetTool\"},{\"attributes\":{\"coordinates\":null,\"data_source\":{\"id\":\"1517\"},\"glyph\":{\"id\":\"1518\"},\"group\":null,\"hover_glyph\":null,\"muted_glyph\":{\"id\":\"1520\"},\"nonselection_glyph\":{\"id\":\"1519\"},\"view\":{\"id\":\"1522\"}},\"id\":\"1521\",\"type\":\"GlyphRenderer\"},{\"attributes\":{\"line_color\":\"#A6CEE3\",\"x\":{\"field\":\"x\"},\"y\":{\"field\":\"y\"}},\"id\":\"1500\",\"type\":\"Line\"},{\"attributes\":{},\"id\":\"1478\",\"type\":\"BasicTicker\"},{\"attributes\":{\"data\":{\"x\":[0,1,2,3,4,5,6,7,8,9,10,11,12,13,14,15,16,17,18,19,20,21,22,23,24,25,26,27,28,29,30,31,32,33,34,35,36,37,38,39,40,41,42,43,44,45,46,47,48,49,50,51,52,53,54,55,56,57,58,59,60,61,62,63,64,65,66,67,68,69,70,71,72,73,74,75,76,77,78,79,80,81,82,83,84,85,86,87,88,89,90,91,92,93,94,95,96,97,98,99,100,101,102,103,104,105,106,107,108,109,110,111,112,113,114,115,116,117,118,119,120,121,122,123,124,125,126,127,128,129,130,131,132,133,134,135,136,137,138,139,140,141,142,143,144,145,146,147,148,149,150,151,152,153,154,155,156,157,158,159,160,161,162,163,164,165,166,167,168,169,170,171,172,173,174,175,176,177,178,179,180,181,182,183,184,185,186,187,188,189,190,191,192,193,194,195,196,197,198,199,200],\"y\":{\"__ndarray__\":\"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\",\"dtype\":\"float64\",\"order\":\"little\",\"shape\":[201]}},\"selected\":{\"id\":\"1533\"},\"selection_policy\":{\"id\":\"1532\"}},\"id\":\"1517\",\"type\":\"ColumnDataSource\"},{\"attributes\":{\"label\":{\"value\":\"Observed\"},\"renderers\":[{\"id\":\"1503\"}]},\"id\":\"1516\",\"type\":\"LegendItem\"},{\"attributes\":{},\"id\":\"1513\",\"type\":\"Selection\"},{\"attributes\":{\"overlay\":{\"id\":\"1491\"}},\"id\":\"1487\",\"type\":\"BoxZoomTool\"},{\"attributes\":{\"line_alpha\":0.1,\"line_color\":\"#FF0000\",\"x\":{\"field\":\"x\"},\"y\":{\"field\":\"y\"}},\"id\":\"1519\",\"type\":\"Line\"},{\"attributes\":{},\"id\":\"1511\",\"type\":\"AllLabels\"},{\"attributes\":{},\"id\":\"1507\",\"type\":\"BasicTickFormatter\"},{\"attributes\":{\"line_alpha\":0.2,\"line_color\":\"#FF0000\",\"x\":{\"field\":\"x\"},\"y\":{\"field\":\"y\"}},\"id\":\"1520\",\"type\":\"Line\"}],\"root_ids\":[\"1466\"]},\"title\":\"Bokeh Application\",\"version\":\"2.4.3\"}};\n",
       "  const render_items = [{\"docid\":\"e0771f36-31b5-43e2-a123-6a3e911316af\",\"root_ids\":[\"1466\"],\"roots\":{\"1466\":\"d66aa749-c380-427a-9a5d-2d93a8909785\"}}];\n",
       "  root.Bokeh.embed.embed_items_notebook(docs_json, render_items);\n",
       "  }\n",
       "  if (root.Bokeh !== undefined) {\n",
       "    embed_document(root);\n",
       "  } else {\n",
       "    let attempts = 0;\n",
       "    const timer = setInterval(function(root) {\n",
       "      if (root.Bokeh !== undefined) {\n",
       "        clearInterval(timer);\n",
       "        embed_document(root);\n",
       "      } else {\n",
       "        attempts++;\n",
       "        if (attempts > 100) {\n",
       "          clearInterval(timer);\n",
       "          console.log(\"Bokeh: ERROR: Unable to run BokehJS code because BokehJS library is missing\");\n",
       "        }\n",
       "      }\n",
       "    }, 10, root)\n",
       "  }\n",
       "})(window);"
      ],
      "application/vnd.bokehjs_exec.v0+json": ""
     },
     "metadata": {
      "application/vnd.bokehjs_exec.v0+json": {
       "id": "1466"
      }
     },
     "output_type": "display_data"
    }
   ],
   "source": [
    "show(plot_arima(wineind, in_sample_preds, \n",
    "                title=\"Original Series & In-sample Predictions\", \n",
    "                c2='#FF0000', forecast_start=0))"
   ]
  },
  {
   "cell_type": "markdown",
   "metadata": {},
   "source": [
    "## Predicting future values\n",
    "\n",
    "After your model is fit, you can forecast future values using the `predict` function, just like in sci-kit learn:"
   ]
  },
  {
   "cell_type": "code",
   "execution_count": 22,
   "metadata": {},
   "outputs": [
    {
     "data": {
      "text/plain": [
       "array([24621.34759856, 29197.77533412, 34358.68997144, 12079.49380205,\n",
       "       18865.29136135, 20827.98297551, 23122.49571555, 21226.64428737,\n",
       "       23378.65225324, 26717.73986558, 22579.12927623, 19669.1990063 ,\n",
       "       23819.46403643, 28395.40169327, 33556.31633059, 11277.1201612 ,\n",
       "       18062.9177205 , 20025.60933466, 22320.1220747 , 20424.27064652,\n",
       "       22576.27861239, 25915.36622473, 21776.75563539, 18866.82536545,\n",
       "       23017.09039558])"
      ]
     },
     "execution_count": 22,
     "metadata": {},
     "output_type": "execute_result"
    }
   ],
   "source": [
    "next_25 = stepwise_fit.predict(n_periods=25)\n",
    "next_25"
   ]
  },
  {
   "cell_type": "code",
   "execution_count": 23,
   "metadata": {},
   "outputs": [
    {
     "data": {
      "text/html": [
       "\n",
       "  <div class=\"bk-root\" id=\"6269e81f-ef27-4151-b6cf-210af11bd8b4\" data-root-id=\"1644\"></div>\n"
      ]
     },
     "metadata": {},
     "output_type": "display_data"
    },
    {
     "data": {
      "application/javascript": [
       "(function(root) {\n",
       "  function embed_document(root) {\n",
       "  const docs_json = {\"08aea7bc-670d-49f1-bcf2-267afcf658bd\":{\"defs\":[],\"roots\":{\"references\":[{\"attributes\":{\"below\":[{\"id\":\"1655\"}],\"center\":[{\"id\":\"1658\"},{\"id\":\"1662\"},{\"id\":\"1693\"}],\"height\":400,\"left\":[{\"id\":\"1659\"}],\"renderers\":[{\"id\":\"1681\"},{\"id\":\"1699\"}],\"title\":{\"id\":\"1645\"},\"toolbar\":{\"id\":\"1670\"},\"x_range\":{\"id\":\"1647\"},\"x_scale\":{\"id\":\"1651\"},\"y_range\":{\"id\":\"1649\"},\"y_scale\":{\"id\":\"1653\"}},\"id\":\"1644\",\"subtype\":\"Figure\",\"type\":\"Plot\"},{\"attributes\":{},\"id\":\"1666\",\"type\":\"SaveTool\"},{\"attributes\":{},\"id\":\"1711\",\"type\":\"Selection\"},{\"attributes\":{\"coordinates\":null,\"data_source\":{\"id\":\"1677\"},\"glyph\":{\"id\":\"1678\"},\"group\":null,\"hover_glyph\":null,\"muted_glyph\":{\"id\":\"1680\"},\"nonselection_glyph\":{\"id\":\"1679\"},\"view\":{\"id\":\"1682\"}},\"id\":\"1681\",\"type\":\"GlyphRenderer\"},{\"attributes\":{},\"id\":\"1660\",\"type\":\"BasicTicker\"},{\"attributes\":{\"overlay\":{\"id\":\"1669\"}},\"id\":\"1665\",\"type\":\"BoxZoomTool\"},{\"attributes\":{\"line_color\":\"#B2DF8A\",\"x\":{\"field\":\"x\"},\"y\":{\"field\":\"y\"}},\"id\":\"1696\",\"type\":\"Line\"},{\"attributes\":{},\"id\":\"1656\",\"type\":\"BasicTicker\"},{\"attributes\":{},\"id\":\"1691\",\"type\":\"Selection\"},{\"attributes\":{\"source\":{\"id\":\"1695\"}},\"id\":\"1700\",\"type\":\"CDSView\"},{\"attributes\":{\"label\":{\"value\":\"Forecasted\"},\"renderers\":[{\"id\":\"1699\"}]},\"id\":\"1713\",\"type\":\"LegendItem\"},{\"attributes\":{\"coordinates\":null,\"group\":null,\"items\":[{\"id\":\"1694\"},{\"id\":\"1713\"}]},\"id\":\"1693\",\"type\":\"Legend\"},{\"attributes\":{\"label\":{\"value\":\"Observed\"},\"renderers\":[{\"id\":\"1681\"}]},\"id\":\"1694\",\"type\":\"LegendItem\"},{\"attributes\":{\"axis_label\":\"Time\",\"coordinates\":null,\"formatter\":{\"id\":\"1688\"},\"group\":null,\"major_label_policy\":{\"id\":\"1689\"},\"ticker\":{\"id\":\"1656\"}},\"id\":\"1655\",\"type\":\"LinearAxis\"},{\"attributes\":{},\"id\":\"1668\",\"type\":\"HelpTool\"},{\"attributes\":{},\"id\":\"1649\",\"type\":\"DataRange1d\"},{\"attributes\":{\"source\":{\"id\":\"1677\"}},\"id\":\"1682\",\"type\":\"CDSView\"},{\"attributes\":{},\"id\":\"1651\",\"type\":\"LinearScale\"},{\"attributes\":{\"coordinates\":null,\"group\":null,\"text\":\"ARIMA\"},\"id\":\"1645\",\"type\":\"Title\"},{\"attributes\":{},\"id\":\"1688\",\"type\":\"BasicTickFormatter\"},{\"attributes\":{},\"id\":\"1686\",\"type\":\"AllLabels\"},{\"attributes\":{},\"id\":\"1689\",\"type\":\"AllLabels\"},{\"attributes\":{\"axis\":{\"id\":\"1655\"},\"coordinates\":null,\"grid_line_alpha\":0.3,\"group\":null,\"ticker\":null},\"id\":\"1658\",\"type\":\"Grid\"},{\"attributes\":{\"data\":{\"x\":[0,1,2,3,4,5,6,7,8,9,10,11,12,13,14,15,16,17,18,19,20,21,22,23,24,25,26,27,28,29,30,31,32,33,34,35,36,37,38,39,40,41,42,43,44,45,46,47,48,49,50,51,52,53,54,55,56,57,58,59,60,61,62,63,64,65,66,67,68,69,70,71,72,73,74,75,76,77,78,79,80,81,82,83,84,85,86,87,88,89,90,91,92,93,94,95,96,97,98,99,100,101,102,103,104,105,106,107,108,109,110,111,112,113,114,115,116,117,118,119,120,121,122,123,124,125,126,127,128,129,130,131,132,133,134,135,136,137,138,139,140,141,142,143,144,145,146,147,148,149,150,151,152,153,154,155,156,157,158,159,160,161,162,163,164,165,166,167,168,169,170,171,172,173,174,175],\"y\":{\"__ndarray__\":\"AAAAAACQzUAAAAAAQFfQQAAAAAAAjNNAAAAAAABL0UAAAAAAwJjRQAAAAADAxtJAAAAAAEBb1kAAAAAAwC7XQAAAAABAo9RAAAAAAMAP1kAAAAAAgCjaQAAAAAAAC91AAAAAAABazUAAAAAAQI7RQAAAAAAAitNAAAAAAIDa1EAAAAAAgArTQAAAAABAm9VAAAAAAEA22UAAAAAAwBrcQAAAAAAAeNRAAAAAAIC71UAAAAAAAMDaQAAAAABAPt1AAAAAAECJ0EAAAAAAAHnRQAAAAABADdRAAAAAAEAE10AAAAAAQOTVQAAAAAAAkdVAAAAAAAD12UAAAAAAgM/aQAAAAABAhNdAAAAAAMDm1kAAAAAAwE/cQAAAAACApt5AAAAAAACA0EAAAAAAQJPTQAAAAADA69ZAAAAAAMA81UAAAAAAQAXZQAAAAADATNdAAAAAAADn2EAAAAAAgEXeQAAAAADA5tdAAAAAAECa1kAAAAAAQAHdQAAAAACgx+BAAAAAAAAl0UAAAAAAQI/VQAAAAACAGdlAAAAAAICx1UAAAAAAgEHaQAAAAADApdZAAAAAAMAt20AAAAAAwEnhQAAAAADAptZAAAAAAICF2EAAAAAAQE7dQAAAAABAsuFAAAAAAIAE0kAAAAAAQFXVQAAAAAAA3tlAAAAAAIDe1UAAAAAAQGbbQAAAAADA2thAAAAAAABK2EAAAAAAAFLgQAAAAAAAfddAAAAAAEDI20AAAAAAoF/gQAAAAADgPOJAAAAAAECA00AAAAAAQDHVQAAAAABAotlAAAAAAEDr10AAAAAAwAbYQAAAAABA3dlAAAAAAMAA3kAAAAAAIOHgQAAAAABAENpAAAAAAECL2UAAAAAAAFDfQAAAAADA+uJAAAAAAEDW1EAAAAAAwPbSQAAAAACAn9ZAAAAAAICf20AAAAAAgP7XQAAAAABAcNdAAAAAAOAv4EAAAAAAgEvYQAAAAAAALdpAAAAAAMBJ3EAAAAAA4EPgQAAAAABApONAAAAAAAAG1EAAAAAAAIXWQAAAAACAAtdAAAAAAIDq2kAAAAAAAGHXQAAAAAAAAthAAAAAAOC/4EAAAAAAQOvYQAAAAACA8dZAAAAAAMBp3EAAAAAA4BDgQAAAAABgyeBAAAAAAMCX0EAAAAAAQJ3UQAAAAAAAL9dAAAAAAAD02EAAAAAAAD7VQAAAAACA0dNAAAAAAEBU3EAAAAAAAOfYQAAAAACAmddAAAAAAABU2kAAAAAAgH3eQAAAAAAg3uJAAAAAAACozEAAAAAAwCHRQAAAAABA29hAAAAAAMDq30AAAAAAQOzVQAAAAAAAy9VAAAAAAMDy2kAAAAAAwNrYQAAAAABA09hAAAAAAACy2EAAAAAAAM7fQAAAAADAJOFAAAAAAABaz0AAAAAAgKDVQAAAAACAs9RAAAAAAMAV00AAAAAAAJHVQAAAAAAAQtdAAAAAAEBC3UAAAAAAQCXaQAAAAADAAtpAAAAAAABX2kAAAAAAwH/dQAAAAADg4+JAAAAAAICT0EAAAAAAQDDVQAAAAADAnNdAAAAAAEAz10AAAAAAQG3YQAAAAADAdNdAAAAAAECi3UAAAAAAAOrXQAAAAAAAkdhAAAAAAIAM2UAAAAAAwDLeQAAAAAAAL+JAAAAAAIAO0UAAAAAAwAHTQAAAAAAAyNdAAAAAAEAt2kAAAAAAAKXYQAAAAADAJ9hAAAAAAACr3EAAAAAAgIDeQAAAAAAAMdZAAAAAAADU20AAAAAAIAvgQAAAAADAKeJAAAAAAACqykAAAAAAAEDWQAAAAABAA9dAAAAAAMC02UAAAAAAwDjXQAAAAABA59pAAAAAAAD33EAAAAAAAM/WQA==\",\"dtype\":\"float64\",\"order\":\"little\",\"shape\":[176]}},\"selected\":{\"id\":\"1691\"},\"selection_policy\":{\"id\":\"1690\"}},\"id\":\"1677\",\"type\":\"ColumnDataSource\"},{\"attributes\":{\"line_alpha\":0.1,\"line_color\":\"#A6CEE3\",\"x\":{\"field\":\"x\"},\"y\":{\"field\":\"y\"}},\"id\":\"1679\",\"type\":\"Line\"},{\"attributes\":{},\"id\":\"1663\",\"type\":\"PanTool\"},{\"attributes\":{},\"id\":\"1690\",\"type\":\"UnionRenderers\"},{\"attributes\":{},\"id\":\"1647\",\"type\":\"DataRange1d\"},{\"attributes\":{\"line_alpha\":0.1,\"line_color\":\"#B2DF8A\",\"x\":{\"field\":\"x\"},\"y\":{\"field\":\"y\"}},\"id\":\"1697\",\"type\":\"Line\"},{\"attributes\":{},\"id\":\"1685\",\"type\":\"BasicTickFormatter\"},{\"attributes\":{\"bottom_units\":\"screen\",\"coordinates\":null,\"fill_alpha\":0.5,\"fill_color\":\"lightgrey\",\"group\":null,\"left_units\":\"screen\",\"level\":\"overlay\",\"line_alpha\":1.0,\"line_color\":\"black\",\"line_dash\":[4,4],\"line_width\":2,\"right_units\":\"screen\",\"syncable\":false,\"top_units\":\"screen\"},\"id\":\"1669\",\"type\":\"BoxAnnotation\"},{\"attributes\":{\"tools\":[{\"id\":\"1663\"},{\"id\":\"1664\"},{\"id\":\"1665\"},{\"id\":\"1666\"},{\"id\":\"1667\"},{\"id\":\"1668\"}]},\"id\":\"1670\",\"type\":\"Toolbar\"},{\"attributes\":{\"axis\":{\"id\":\"1659\"},\"coordinates\":null,\"dimension\":1,\"grid_line_alpha\":0.3,\"group\":null,\"ticker\":null},\"id\":\"1662\",\"type\":\"Grid\"},{\"attributes\":{},\"id\":\"1664\",\"type\":\"WheelZoomTool\"},{\"attributes\":{},\"id\":\"1667\",\"type\":\"ResetTool\"},{\"attributes\":{},\"id\":\"1653\",\"type\":\"LinearScale\"},{\"attributes\":{\"line_alpha\":0.2,\"line_color\":\"#B2DF8A\",\"x\":{\"field\":\"x\"},\"y\":{\"field\":\"y\"}},\"id\":\"1698\",\"type\":\"Line\"},{\"attributes\":{\"data\":{\"x\":[176,177,178,179,180,181,182,183,184,185,186,187,188,189,190,191,192,193,194,195,196,197,198,199,200],\"y\":{\"__ndarray__\":\"BgwOP1YL2EDJAhOfcYPcQMf5PhTWxuBA3dPnNL+Xx0BmE6qlUmzSQEkgEun+VtRAjbPNuZ+U1kBJFgE8qbrUQINahL6p1NZArSb1WW8X2kAM1A9GyAzWQLLvhLxMNdNAB93Fst1C10BXs1e12brbQA5SYR+KYuBA+DRxYY8GxkD0w+67uqPRQNfQVv9mjtNAG2QS0AfM1UDXxkVSEfLTQBELydQRDNZAO9c5cNdO2UCahFRcMETVQECgydK0bNJAlY0KyUV61kA=\",\"dtype\":\"float64\",\"order\":\"little\",\"shape\":[25]}},\"selected\":{\"id\":\"1711\"},\"selection_policy\":{\"id\":\"1710\"}},\"id\":\"1695\",\"type\":\"ColumnDataSource\"},{\"attributes\":{\"axis_label\":\"Value\",\"coordinates\":null,\"formatter\":{\"id\":\"1685\"},\"group\":null,\"major_label_policy\":{\"id\":\"1686\"},\"ticker\":{\"id\":\"1660\"}},\"id\":\"1659\",\"type\":\"LinearAxis\"},{\"attributes\":{\"line_color\":\"#A6CEE3\",\"x\":{\"field\":\"x\"},\"y\":{\"field\":\"y\"}},\"id\":\"1678\",\"type\":\"Line\"},{\"attributes\":{\"coordinates\":null,\"data_source\":{\"id\":\"1695\"},\"glyph\":{\"id\":\"1696\"},\"group\":null,\"hover_glyph\":null,\"muted_glyph\":{\"id\":\"1698\"},\"nonselection_glyph\":{\"id\":\"1697\"},\"view\":{\"id\":\"1700\"}},\"id\":\"1699\",\"type\":\"GlyphRenderer\"},{\"attributes\":{},\"id\":\"1710\",\"type\":\"UnionRenderers\"},{\"attributes\":{\"line_alpha\":0.2,\"line_color\":\"#A6CEE3\",\"x\":{\"field\":\"x\"},\"y\":{\"field\":\"y\"}},\"id\":\"1680\",\"type\":\"Line\"}],\"root_ids\":[\"1644\"]},\"title\":\"Bokeh Application\",\"version\":\"2.4.3\"}};\n",
       "  const render_items = [{\"docid\":\"08aea7bc-670d-49f1-bcf2-267afcf658bd\",\"root_ids\":[\"1644\"],\"roots\":{\"1644\":\"6269e81f-ef27-4151-b6cf-210af11bd8b4\"}}];\n",
       "  root.Bokeh.embed.embed_items_notebook(docs_json, render_items);\n",
       "  }\n",
       "  if (root.Bokeh !== undefined) {\n",
       "    embed_document(root);\n",
       "  } else {\n",
       "    let attempts = 0;\n",
       "    const timer = setInterval(function(root) {\n",
       "      if (root.Bokeh !== undefined) {\n",
       "        clearInterval(timer);\n",
       "        embed_document(root);\n",
       "      } else {\n",
       "        attempts++;\n",
       "        if (attempts > 100) {\n",
       "          clearInterval(timer);\n",
       "          console.log(\"Bokeh: ERROR: Unable to run BokehJS code because BokehJS library is missing\");\n",
       "        }\n",
       "      }\n",
       "    }, 10, root)\n",
       "  }\n",
       "})(window);"
      ],
      "application/vnd.bokehjs_exec.v0+json": ""
     },
     "metadata": {
      "application/vnd.bokehjs_exec.v0+json": {
       "id": "1644"
      }
     },
     "output_type": "display_data"
    }
   ],
   "source": [
    "# call the plotting func\n",
    "show(plot_arima(wineind, next_25))"
   ]
  },
  {
   "cell_type": "markdown",
   "metadata": {},
   "source": [
    "## Updating your model\n",
    "\n",
    "ARIMAs create forecasts by using the latest observations. Over time, your forecasts will drift, and you'll need to update the model with the observed values. There are several solutions to this problem:\n",
    "\n",
    "* Fit a new ARIMA with the new data added to your training sample\n",
    "  - You can either re-use the order discovered in the `auto_arima` function, or re-run `auto_arima` altogether.\n",
    "* Use the `update` method (__preferred__). This will allow your model to update its parameters by taking several more MLE steps on new observations (controlled by the `maxiter` arg) starting from the parameters it's already discovered. This approach will help you avoid over-fitting.\n",
    "\n",
    "For this example, let's update our existing model with the `next_25` we just computed, as if they were actually observed values."
   ]
  },
  {
   "cell_type": "code",
   "execution_count": 24,
   "metadata": {},
   "outputs": [
    {
     "data": {
      "text/html": [
       "<table class=\"simpletable\">\n",
       "<caption>SARIMAX Results</caption>\n",
       "<tr>\n",
       "  <th>Dep. Variable:</th>                   <td>y</td>                <th>  No. Observations:  </th>    <td>226</td>   \n",
       "</tr>\n",
       "<tr>\n",
       "  <th>Model:</th>           <td>SARIMAX(0, 1, 2)x(0, 1, [1], 12)</td> <th>  Log Likelihood     </th> <td>-1968.260</td>\n",
       "</tr>\n",
       "<tr>\n",
       "  <th>Date:</th>                    <td>Thu, 11 May 2023</td>         <th>  AIC                </th> <td>3944.520</td> \n",
       "</tr>\n",
       "<tr>\n",
       "  <th>Time:</th>                        <td>17:19:18</td>             <th>  BIC                </th> <td>3957.965</td> \n",
       "</tr>\n",
       "<tr>\n",
       "  <th>Sample:</th>                          <td>0</td>                <th>  HQIC               </th> <td>3949.953</td> \n",
       "</tr>\n",
       "<tr>\n",
       "  <th></th>                              <td> - 226</td>              <th>                     </th>     <td> </td>    \n",
       "</tr>\n",
       "<tr>\n",
       "  <th>Covariance Type:</th>                <td>opg</td>               <th>                     </th>     <td> </td>    \n",
       "</tr>\n",
       "</table>\n",
       "<table class=\"simpletable\">\n",
       "<tr>\n",
       "      <td></td>        <th>coef</th>     <th>std err</th>      <th>z</th>      <th>P>|z|</th>  <th>[0.025</th>    <th>0.975]</th>  \n",
       "</tr>\n",
       "<tr>\n",
       "  <th>ma.L1</th>    <td>   -0.5918</td> <td>    0.036</td> <td>  -16.296</td> <td> 0.000</td> <td>   -0.663</td> <td>   -0.521</td>\n",
       "</tr>\n",
       "<tr>\n",
       "  <th>ma.L2</th>    <td>   -0.1067</td> <td>    0.041</td> <td>   -2.608</td> <td> 0.009</td> <td>   -0.187</td> <td>   -0.027</td>\n",
       "</tr>\n",
       "<tr>\n",
       "  <th>ma.S.L12</th> <td>   -0.3884</td> <td>    0.047</td> <td>   -8.298</td> <td> 0.000</td> <td>   -0.480</td> <td>   -0.297</td>\n",
       "</tr>\n",
       "<tr>\n",
       "  <th>sigma2</th>   <td> 6.611e+06</td> <td> 4.85e+05</td> <td>   13.639</td> <td> 0.000</td> <td> 5.66e+06</td> <td> 7.56e+06</td>\n",
       "</tr>\n",
       "</table>\n",
       "<table class=\"simpletable\">\n",
       "<tr>\n",
       "  <th>Ljung-Box (L1) (Q):</th>     <td>3.14</td> <th>  Jarque-Bera (JB):  </th> <td>77.75</td>\n",
       "</tr>\n",
       "<tr>\n",
       "  <th>Prob(Q):</th>                <td>0.08</td> <th>  Prob(JB):          </th> <td>0.00</td> \n",
       "</tr>\n",
       "<tr>\n",
       "  <th>Heteroskedasticity (H):</th> <td>0.37</td> <th>  Skew:              </th> <td>-0.73</td>\n",
       "</tr>\n",
       "<tr>\n",
       "  <th>Prob(H) (two-sided):</th>    <td>0.00</td> <th>  Kurtosis:          </th> <td>5.57</td> \n",
       "</tr>\n",
       "</table><br/><br/>Warnings:<br/>[1] Covariance matrix calculated using the outer product of gradients (complex-step)."
      ],
      "text/plain": [
       "<class 'statsmodels.iolib.summary.Summary'>\n",
       "\"\"\"\n",
       "                                      SARIMAX Results                                       \n",
       "============================================================================================\n",
       "Dep. Variable:                                    y   No. Observations:                  226\n",
       "Model:             SARIMAX(0, 1, 2)x(0, 1, [1], 12)   Log Likelihood               -1968.260\n",
       "Date:                              Thu, 11 May 2023   AIC                           3944.520\n",
       "Time:                                      17:19:18   BIC                           3957.965\n",
       "Sample:                                           0   HQIC                          3949.953\n",
       "                                              - 226                                         \n",
       "Covariance Type:                                opg                                         \n",
       "==============================================================================\n",
       "                 coef    std err          z      P>|z|      [0.025      0.975]\n",
       "------------------------------------------------------------------------------\n",
       "ma.L1         -0.5918      0.036    -16.296      0.000      -0.663      -0.521\n",
       "ma.L2         -0.1067      0.041     -2.608      0.009      -0.187      -0.027\n",
       "ma.S.L12      -0.3884      0.047     -8.298      0.000      -0.480      -0.297\n",
       "sigma2      6.611e+06   4.85e+05     13.639      0.000    5.66e+06    7.56e+06\n",
       "===================================================================================\n",
       "Ljung-Box (L1) (Q):                   3.14   Jarque-Bera (JB):                77.75\n",
       "Prob(Q):                              0.08   Prob(JB):                         0.00\n",
       "Heteroskedasticity (H):               0.37   Skew:                            -0.73\n",
       "Prob(H) (two-sided):                  0.00   Kurtosis:                         5.57\n",
       "===================================================================================\n",
       "\n",
       "Warnings:\n",
       "[1] Covariance matrix calculated using the outer product of gradients (complex-step).\n",
       "\"\"\""
      ]
     },
     "execution_count": 24,
     "metadata": {},
     "output_type": "execute_result"
    }
   ],
   "source": [
    "stepwise_fit.update(next_25, maxiter=10)  # take 10 more steps\n",
    "stepwise_fit.summary()"
   ]
  },
  {
   "cell_type": "code",
   "execution_count": 25,
   "metadata": {},
   "outputs": [],
   "source": [
    "updated_data = np.concatenate([wineind, next_25])"
   ]
  },
  {
   "cell_type": "code",
   "execution_count": 26,
   "metadata": {},
   "outputs": [
    {
     "data": {
      "text/html": [
       "\n",
       "  <div class=\"bk-root\" id=\"c410fcd5-3812-4a72-96a4-00dd42cfcdb2\" data-root-id=\"1834\"></div>\n"
      ]
     },
     "metadata": {},
     "output_type": "display_data"
    },
    {
     "data": {
      "application/javascript": [
       "(function(root) {\n",
       "  function embed_document(root) {\n",
       "  const docs_json = {\"a8c91545-b993-4e86-9e1d-d40146c4b76e\":{\"defs\":[],\"roots\":{\"references\":[{\"attributes\":{\"below\":[{\"id\":\"1845\"}],\"center\":[{\"id\":\"1848\"},{\"id\":\"1852\"},{\"id\":\"1883\"}],\"height\":400,\"left\":[{\"id\":\"1849\"}],\"renderers\":[{\"id\":\"1871\"},{\"id\":\"1889\"}],\"title\":{\"id\":\"1835\"},\"toolbar\":{\"id\":\"1860\"},\"x_range\":{\"id\":\"1837\"},\"x_scale\":{\"id\":\"1841\"},\"y_range\":{\"id\":\"1839\"},\"y_scale\":{\"id\":\"1843\"}},\"id\":\"1834\",\"subtype\":\"Figure\",\"type\":\"Plot\"},{\"attributes\":{\"tools\":[{\"id\":\"1853\"},{\"id\":\"1854\"},{\"id\":\"1855\"},{\"id\":\"1856\"},{\"id\":\"1857\"},{\"id\":\"1858\"}]},\"id\":\"1860\",\"type\":\"Toolbar\"},{\"attributes\":{},\"id\":\"1875\",\"type\":\"BasicTickFormatter\"},{\"attributes\":{},\"id\":\"1841\",\"type\":\"LinearScale\"},{\"attributes\":{},\"id\":\"1843\",\"type\":\"LinearScale\"},{\"attributes\":{},\"id\":\"1878\",\"type\":\"BasicTickFormatter\"},{\"attributes\":{},\"id\":\"1853\",\"type\":\"PanTool\"},{\"attributes\":{},\"id\":\"1839\",\"type\":\"DataRange1d\"},{\"attributes\":{},\"id\":\"1854\",\"type\":\"WheelZoomTool\"},{\"attributes\":{},\"id\":\"1879\",\"type\":\"AllLabels\"},{\"attributes\":{\"coordinates\":null,\"group\":null,\"items\":[{\"id\":\"1884\"},{\"id\":\"1903\"}]},\"id\":\"1883\",\"type\":\"Legend\"},{\"attributes\":{\"line_alpha\":0.2,\"line_color\":\"#B2DF8A\",\"x\":{\"field\":\"x\"},\"y\":{\"field\":\"y\"}},\"id\":\"1888\",\"type\":\"Line\"},{\"attributes\":{},\"id\":\"1880\",\"type\":\"UnionRenderers\"},{\"attributes\":{\"overlay\":{\"id\":\"1859\"}},\"id\":\"1855\",\"type\":\"BoxZoomTool\"},{\"attributes\":{\"label\":{\"value\":\"Forecasted\"},\"renderers\":[{\"id\":\"1889\"}]},\"id\":\"1903\",\"type\":\"LegendItem\"},{\"attributes\":{\"source\":{\"id\":\"1885\"}},\"id\":\"1890\",\"type\":\"CDSView\"},{\"attributes\":{},\"id\":\"1881\",\"type\":\"Selection\"},{\"attributes\":{},\"id\":\"1856\",\"type\":\"SaveTool\"},{\"attributes\":{\"label\":{\"value\":\"Observed\"},\"renderers\":[{\"id\":\"1871\"}]},\"id\":\"1884\",\"type\":\"LegendItem\"},{\"attributes\":{\"coordinates\":null,\"group\":null,\"text\":\"ARIMA\"},\"id\":\"1835\",\"type\":\"Title\"},{\"attributes\":{\"line_color\":\"#A6CEE3\",\"x\":{\"field\":\"x\"},\"y\":{\"field\":\"y\"}},\"id\":\"1868\",\"type\":\"Line\"},{\"attributes\":{},\"id\":\"1857\",\"type\":\"ResetTool\"},{\"attributes\":{},\"id\":\"1837\",\"type\":\"DataRange1d\"},{\"attributes\":{\"source\":{\"id\":\"1867\"}},\"id\":\"1872\",\"type\":\"CDSView\"},{\"attributes\":{},\"id\":\"1858\",\"type\":\"HelpTool\"},{\"attributes\":{\"data\":{\"x\":[201,202,203,204,205,206,207,208,209,210],\"y\":{\"__ndarray__\":\"WGo0lEPy2kCI38OyYPzfQHc69CivdMRAUxJPRTLb0EDZXWfns8XSQKbTox90A9VAzjsf8F4p00DgFwNTrkPVQOl9JWYkhthAnMjT/Tp71EA=\",\"dtype\":\"float64\",\"order\":\"little\",\"shape\":[10]}},\"selected\":{\"id\":\"1901\"},\"selection_policy\":{\"id\":\"1900\"}},\"id\":\"1885\",\"type\":\"ColumnDataSource\"},{\"attributes\":{},\"id\":\"1846\",\"type\":\"BasicTicker\"},{\"attributes\":{\"coordinates\":null,\"data_source\":{\"id\":\"1885\"},\"glyph\":{\"id\":\"1886\"},\"group\":null,\"hover_glyph\":null,\"muted_glyph\":{\"id\":\"1888\"},\"nonselection_glyph\":{\"id\":\"1887\"},\"view\":{\"id\":\"1890\"}},\"id\":\"1889\",\"type\":\"GlyphRenderer\"},{\"attributes\":{},\"id\":\"1850\",\"type\":\"BasicTicker\"},{\"attributes\":{\"axis_label\":\"Time\",\"coordinates\":null,\"formatter\":{\"id\":\"1878\"},\"group\":null,\"major_label_policy\":{\"id\":\"1879\"},\"ticker\":{\"id\":\"1846\"}},\"id\":\"1845\",\"type\":\"LinearAxis\"},{\"attributes\":{\"bottom_units\":\"screen\",\"coordinates\":null,\"fill_alpha\":0.5,\"fill_color\":\"lightgrey\",\"group\":null,\"left_units\":\"screen\",\"level\":\"overlay\",\"line_alpha\":1.0,\"line_color\":\"black\",\"line_dash\":[4,4],\"line_width\":2,\"right_units\":\"screen\",\"syncable\":false,\"top_units\":\"screen\"},\"id\":\"1859\",\"type\":\"BoxAnnotation\"},{\"attributes\":{\"axis\":{\"id\":\"1845\"},\"coordinates\":null,\"grid_line_alpha\":0.3,\"group\":null,\"ticker\":null},\"id\":\"1848\",\"type\":\"Grid\"},{\"attributes\":{\"line_alpha\":0.1,\"line_color\":\"#B2DF8A\",\"x\":{\"field\":\"x\"},\"y\":{\"field\":\"y\"}},\"id\":\"1887\",\"type\":\"Line\"},{\"attributes\":{\"line_color\":\"#B2DF8A\",\"x\":{\"field\":\"x\"},\"y\":{\"field\":\"y\"}},\"id\":\"1886\",\"type\":\"Line\"},{\"attributes\":{},\"id\":\"1901\",\"type\":\"Selection\"},{\"attributes\":{\"axis\":{\"id\":\"1849\"},\"coordinates\":null,\"dimension\":1,\"grid_line_alpha\":0.3,\"group\":null,\"ticker\":null},\"id\":\"1852\",\"type\":\"Grid\"},{\"attributes\":{\"axis_label\":\"Value\",\"coordinates\":null,\"formatter\":{\"id\":\"1875\"},\"group\":null,\"major_label_policy\":{\"id\":\"1876\"},\"ticker\":{\"id\":\"1850\"}},\"id\":\"1849\",\"type\":\"LinearAxis\"},{\"attributes\":{},\"id\":\"1876\",\"type\":\"AllLabels\"},{\"attributes\":{\"data\":{\"x\":[0,1,2,3,4,5,6,7,8,9,10,11,12,13,14,15,16,17,18,19,20,21,22,23,24,25,26,27,28,29,30,31,32,33,34,35,36,37,38,39,40,41,42,43,44,45,46,47,48,49,50,51,52,53,54,55,56,57,58,59,60,61,62,63,64,65,66,67,68,69,70,71,72,73,74,75,76,77,78,79,80,81,82,83,84,85,86,87,88,89,90,91,92,93,94,95,96,97,98,99,100,101,102,103,104,105,106,107,108,109,110,111,112,113,114,115,116,117,118,119,120,121,122,123,124,125,126,127,128,129,130,131,132,133,134,135,136,137,138,139,140,141,142,143,144,145,146,147,148,149,150,151,152,153,154,155,156,157,158,159,160,161,162,163,164,165,166,167,168,169,170,171,172,173,174,175,176,177,178,179,180,181,182,183,184,185,186,187,188,189,190,191,192,193,194,195,196,197,198,199,200],\"y\":{\"__ndarray__\":\"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\",\"dtype\":\"float64\",\"order\":\"little\",\"shape\":[201]}},\"selected\":{\"id\":\"1881\"},\"selection_policy\":{\"id\":\"1880\"}},\"id\":\"1867\",\"type\":\"ColumnDataSource\"},{\"attributes\":{},\"id\":\"1900\",\"type\":\"UnionRenderers\"},{\"attributes\":{\"line_alpha\":0.2,\"line_color\":\"#A6CEE3\",\"x\":{\"field\":\"x\"},\"y\":{\"field\":\"y\"}},\"id\":\"1870\",\"type\":\"Line\"},{\"attributes\":{\"line_alpha\":0.1,\"line_color\":\"#A6CEE3\",\"x\":{\"field\":\"x\"},\"y\":{\"field\":\"y\"}},\"id\":\"1869\",\"type\":\"Line\"},{\"attributes\":{\"coordinates\":null,\"data_source\":{\"id\":\"1867\"},\"glyph\":{\"id\":\"1868\"},\"group\":null,\"hover_glyph\":null,\"muted_glyph\":{\"id\":\"1870\"},\"nonselection_glyph\":{\"id\":\"1869\"},\"view\":{\"id\":\"1872\"}},\"id\":\"1871\",\"type\":\"GlyphRenderer\"}],\"root_ids\":[\"1834\"]},\"title\":\"Bokeh Application\",\"version\":\"2.4.3\"}};\n",
       "  const render_items = [{\"docid\":\"a8c91545-b993-4e86-9e1d-d40146c4b76e\",\"root_ids\":[\"1834\"],\"roots\":{\"1834\":\"c410fcd5-3812-4a72-96a4-00dd42cfcdb2\"}}];\n",
       "  root.Bokeh.embed.embed_items_notebook(docs_json, render_items);\n",
       "  }\n",
       "  if (root.Bokeh !== undefined) {\n",
       "    embed_document(root);\n",
       "  } else {\n",
       "    let attempts = 0;\n",
       "    const timer = setInterval(function(root) {\n",
       "      if (root.Bokeh !== undefined) {\n",
       "        clearInterval(timer);\n",
       "        embed_document(root);\n",
       "      } else {\n",
       "        attempts++;\n",
       "        if (attempts > 100) {\n",
       "          clearInterval(timer);\n",
       "          console.log(\"Bokeh: ERROR: Unable to run BokehJS code because BokehJS library is missing\");\n",
       "        }\n",
       "      }\n",
       "    }, 10, root)\n",
       "  }\n",
       "})(window);"
      ],
      "application/vnd.bokehjs_exec.v0+json": ""
     },
     "metadata": {
      "application/vnd.bokehjs_exec.v0+json": {
       "id": "1834"
      }
     },
     "output_type": "display_data"
    }
   ],
   "source": [
    "# visualize new forecasts\n",
    "show(plot_arima(updated_data, stepwise_fit.predict(n_periods=10)))"
   ]
  }
 ],
 "metadata": {
  "anaconda-cloud": {},
  "kernelspec": {
   "display_name": "Python 3 (ipykernel)",
   "language": "python",
   "name": "python3"
  },
  "language_info": {
   "codemirror_mode": {
    "name": "ipython",
    "version": 3
   },
   "file_extension": ".py",
   "mimetype": "text/x-python",
   "name": "python",
   "nbconvert_exporter": "python",
   "pygments_lexer": "ipython3",
   "version": "3.7.16"
  }
 },
 "nbformat": 4,
 "nbformat_minor": 4
}
